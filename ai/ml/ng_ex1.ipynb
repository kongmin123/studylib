{
 "cells": [
  {
   "cell_type": "markdown",
   "metadata": {},
   "source": [
    "# Coursera 机器学习 python版\n",
    "\n",
    "## 编程作业一 线性回归（一元及多元）\n",
    "\n",
    "**说明** \n",
    "\n",
    "Andrew Ng的机器学习课程编程作业的python版， 基于他的作业pdf的步骤， 尽量细化步骤并添加一些数学公式， 让人多理解算法及数学推导过程。 \n",
    "\n",
    "*注*\n",
    "只看英文的， 出门右转， 不送。\n",
    "\n",
    "每步会有提示， 可以忽略，  每步保留一个空代码块供编辑， 如果你打算下载到本地进行练习的话， 另有示例代码。 写得不好， 请不要打我， 如果有更好的版本， 请告诉我 :).\n",
    "\n",
    "首先导入一些 python 的常用包， 相应教程请先自行网上搜索。 "
   ]
  },
  {
   "cell_type": "code",
   "execution_count": 73,
   "metadata": {
    "collapsed": false
   },
   "outputs": [],
   "source": [
    "%pylab inline\n",
    "import pandas as pd\n",
    "import numpy as np\n",
    "import matplotlib.pyplot as plt"
   ]
  },
  {
   "cell_type": "markdown",
   "metadata": {},
   "source": [
    "## 第一部分 一元线性回归\n",
    "\n",
    "pdf 最开始是 Octave 热身， python 相关热身请自行学习。\n",
    "\n",
    "在开始正式学习之前， 先读取数据,  并绘个图， 有一个直观的印象。\n",
    "\n",
    "第一步， 读取文件中的数据\n",
    "\n",
    "本练习中， 文件读取不难， 要考虑后期使用的方便性。\n",
    "\n",
    "方案一： 用 pandas 读取 csv 文件， 并显示数据的前三行\n",
    "\n",
    "提示： 用pandas的话， 注意别把第一行的数据当成列名了， 可以使用names=['population', 'profit']， 你用 names = ['x', 'y'] 也可以。"
   ]
  },
  {
   "cell_type": "code",
   "execution_count": 74,
   "metadata": {
    "collapsed": true
   },
   "outputs": [],
   "source": [
    "# 轮到你了"
   ]
  },
  {
   "cell_type": "code",
   "execution_count": 75,
   "metadata": {
    "collapsed": false
   },
   "outputs": [
    {
     "name": "stdout",
     "output_type": "stream",
     "text": [
      "   population   profit\n",
      "0      6.1101  17.5920\n",
      "1      5.5277   9.1302\n",
      "2      8.5186  13.6620\n"
     ]
    }
   ],
   "source": [
    "data = pd.read_csv('ex1data1.txt',  names=['population', 'profit'])\n",
    "print data.head(3)"
   ]
  },
  {
   "cell_type": "markdown",
   "metadata": {
    "collapsed": false
   },
   "source": [
    "### 1.1 数据可视化， 绘图\n",
    "\n",
    "使用pyplot, 绘制散点图（scatter 或 plot), 带标题名和横竖坐标名， 最好再调整下范围， x轴上， 5左边太空旷了。\n",
    "\n",
    "提示： 如果使用的是 pandas 读取到的 DataFrame，  data[列名] 得到的是 Series, 不能用， 还需要 data[列名].values 才是得到 ndarray."
   ]
  },
  {
   "cell_type": "code",
   "execution_count": 76,
   "metadata": {
    "collapsed": true
   },
   "outputs": [],
   "source": [
    "# 轮到你了"
   ]
  },
  {
   "cell_type": "code",
   "execution_count": 77,
   "metadata": {
    "collapsed": false
   },
   "outputs": [
    {
     "data": {
      "text/plain": [
       "<matplotlib.text.Text at 0x7f88127262d0>"
      ]
     },
     "execution_count": 77,
     "metadata": {},
     "output_type": "execute_result"
    }
   ],
   "source": [
    "plt.figure()\n",
    "plt.scatter(data['population'].values, data['profit'].values)\n",
    "plt.xlabel(\"population\")\n",
    "plt.ylabel(\"profit\")\n",
    "plt.xlim(4, 25)\n",
    "plt.title(u\"一元线性回归\")"
   ]
  },
  {
   "cell_type": "markdown",
   "metadata": {
    "collapsed": false
   },
   "source": [
    "### 1.2 梯度下降\n",
    "\n",
    "* 预备备—— 一元线性回归 $h_\\theta(x) = \\theta_0 + \\theta_1 x_1$\n",
    "\n",
    "*数学公式编写可能有误*\n",
    "\n",
    "机器学习三要素——模型、 策略、 算法。  \n",
    "\n",
    "确认本次练习的**模型**为 一元线性回归\n",
    "\n",
    "定义：\n",
    "\n",
    "1. 输入数据量大小为 m, 输入表示为 $ \\mathbf{X} $, 输出表示为 $\\mathbf{y} $\n",
    "2. 待学习的权重向量维度为n，  此处 n = 1, 另有第0维,  表示为 $ \\vec{\\theta} = [ \\theta_0, \\theta_1] $\n",
    "\n",
    "$ h_\\theta(x) = \\sum\\limits^{n}_{i=0} \\theta_i x_i = \\vec{\\theta}^\\mathrm{T} X $\n",
    "\n",
    "根据公式， 我们需要:\n",
    "\n",
    "1. 输入变量 x (本来应该是大写， 我懒改了) ，  m x (n+1) 维,  第0维初始化为1\n",
    "2. 输出变量 y\n",
    "3. 权重向量变量  theta\n",
    "\n",
    "方案一 使用pandas：\n",
    "\n",
    "变量 x 为DataFrame, 有两个列， x0 和 x1,  其中， x0 列的值全部为 1\n",
    "\n",
    "变量 theta 初始化为[0, 0] 的 ndarray"
   ]
  },
  {
   "cell_type": "code",
   "execution_count": 78,
   "metadata": {
    "collapsed": true
   },
   "outputs": [],
   "source": [
    "# 轮到你了"
   ]
  },
  {
   "cell_type": "code",
   "execution_count": 79,
   "metadata": {
    "collapsed": false
   },
   "outputs": [],
   "source": [
    "x = pd.DataFrame()\n",
    "x['x0'] = np.ones(len(data))\n",
    "x['x1'] = data['population']\n",
    "x = x.values\n",
    "y = data['profit'].values\n",
    "theta = np.zeros(2)"
   ]
  },
  {
   "cell_type": "markdown",
   "metadata": {},
   "source": [
    "* 选择策略 —— 误差函数成本函数 (cost function)\n",
    "\n",
    "回归分析一般都使用均方根误差、 拟合标准差 (RMSE  Root mean squared error),  但此处 ng 使用的是均方差(MSE) 再除常数2。\n",
    "\n",
    "$ J(\\theta) = \\frac{1}{2m} \\sum\\limits^{m}_{i=1}(h_\\theta(x^i) - y^i)^2$\n",
    "\n",
    "i 表示 第i条数据， 即第i行的值\n",
    "\n",
    "请实现该函数："
   ]
  },
  {
   "cell_type": "code",
   "execution_count": 80,
   "metadata": {
    "collapsed": true
   },
   "outputs": [],
   "source": [
    "# 轮到你了"
   ]
  },
  {
   "cell_type": "code",
   "execution_count": 81,
   "metadata": {
    "collapsed": true
   },
   "outputs": [],
   "source": [
    "def compute_cost(x, y, theta):\n",
    "    x_ = np.dot(x, theta.T) - y\n",
    "    return sum(x_ * x_) / (2 * len(x))"
   ]
  },
  {
   "cell_type": "markdown",
   "metadata": {},
   "source": [
    "* 计算初始的误差值\n",
    "\n",
    "即 theta = [0 0]"
   ]
  },
  {
   "cell_type": "code",
   "execution_count": 82,
   "metadata": {
    "collapsed": false
   },
   "outputs": [
    {
     "name": "stdout",
     "output_type": "stream",
     "text": [
      "32.0727338775\n"
     ]
    }
   ],
   "source": [
    "# 验证 compute_cost ， 不需要你自己练习代码\n",
    "\n",
    "j_val = compute_cost(x, y, theta)\n",
    "print j_val\n",
    "\n",
    "assert abs(j_val - 32.0727338775) < 0.0001"
   ]
  },
  {
   "cell_type": "markdown",
   "metadata": {
    "collapsed": false
   },
   "source": [
    "* 梯度下降参数初始化\n",
    "\n",
    "迭代次数及学习率$\\alpha$"
   ]
  },
  {
   "cell_type": "code",
   "execution_count": 83,
   "metadata": {
    "collapsed": true
   },
   "outputs": [],
   "source": [
    "iterations = 1500\n",
    "alpha = 0.01"
   ]
  },
  {
   "cell_type": "markdown",
   "metadata": {},
   "source": [
    "* 运行梯度下降\n",
    "\n",
    "$ \\theta_j := \\theta_j - \\alpha\\frac{1}{m}\\sum\\limits^{m}_{i=1}(h_\\theta(x^i) - y^i)x^i_j$\n",
    "\n",
    "$ \\theta = \\theta - \\alpha\\vec{\\theta}^\\mathrm{T} X $\n",
    "\n",
    "请实现梯度下降法的函数——这部分的推导先推后。"
   ]
  },
  {
   "cell_type": "code",
   "execution_count": 84,
   "metadata": {
    "collapsed": true
   },
   "outputs": [],
   "source": [
    "# 轮到你了\n",
    "def gradient_descent(x, y, theta, alpha, iterations):\n",
    "\n",
    "    theta_trace = []\n",
    "    return theta, theta_trace"
   ]
  },
  {
   "cell_type": "code",
   "execution_count": 85,
   "metadata": {
    "collapsed": false
   },
   "outputs": [],
   "source": [
    "def gradient_descent(x, y, theta, alpha, iterations):\n",
    "    theta_trace = [theta]\n",
    "\n",
    "    m = len(x)\n",
    "    for i in range(iterations):\n",
    "        x_ = np.dot(x.T, np.dot(x, theta.T) - y) \n",
    "        \n",
    "        theta = theta - alpha * x_ / m\n",
    "        theta_trace.append(theta)\n",
    "        #print compute_cost(x, y, ntheta)\n",
    "    return theta, theta_trace\n"
   ]
  },
  {
   "cell_type": "code",
   "execution_count": 86,
   "metadata": {
    "collapsed": false
   },
   "outputs": [
    {
     "name": "stdout",
     "output_type": "stream",
     "text": [
      "Theta found by gradient descent: \n",
      "-3.630291 1.166362 \n"
     ]
    }
   ],
   "source": [
    "theta, theta_trace = gradient_descent(x, y, theta, alpha, iterations)\n",
    "theta_array = np.array(theta_trace)\n",
    "print 'Theta found by gradient descent: '\n",
    "print \"%f %f \" % tuple(theta)"
   ]
  },
  {
   "cell_type": "markdown",
   "metadata": {
    "collapsed": false
   },
   "source": [
    "* 根据模型绘图\n"
   ]
  },
  {
   "cell_type": "code",
   "execution_count": 87,
   "metadata": {
    "collapsed": true
   },
   "outputs": [],
   "source": [
    "# 轮到你了"
   ]
  },
  {
   "cell_type": "code",
   "execution_count": 107,
   "metadata": {
    "collapsed": false
   },
   "outputs": [
    {
     "ename": "KeyError",
     "evalue": "'population'",
     "output_type": "error",
     "traceback": [
      "\u001b[1;31m---------------------------------------------------------------------------\u001b[0m",
      "\u001b[1;31mKeyError\u001b[0m                                  Traceback (most recent call last)",
      "\u001b[1;32m<ipython-input-107-dd1b982327f7>\u001b[0m in \u001b[0;36m<module>\u001b[1;34m()\u001b[0m\n\u001b[1;32m----> 1\u001b[1;33m \u001b[0mplt\u001b[0m\u001b[1;33m.\u001b[0m\u001b[0mscatter\u001b[0m\u001b[1;33m(\u001b[0m\u001b[0mdata\u001b[0m\u001b[1;33m[\u001b[0m\u001b[1;34m'population'\u001b[0m\u001b[1;33m]\u001b[0m\u001b[1;33m.\u001b[0m\u001b[0mvalues\u001b[0m\u001b[1;33m,\u001b[0m \u001b[0mdata\u001b[0m\u001b[1;33m[\u001b[0m\u001b[1;34m'profit'\u001b[0m\u001b[1;33m]\u001b[0m\u001b[1;33m.\u001b[0m\u001b[0mvalues\u001b[0m\u001b[1;33m,\u001b[0m \u001b[0mcolor\u001b[0m \u001b[1;33m=\u001b[0m \u001b[1;34m'red'\u001b[0m\u001b[1;33m)\u001b[0m\u001b[1;33m\u001b[0m\u001b[0m\n\u001b[0m\u001b[0;32m      2\u001b[0m \u001b[0mplt\u001b[0m\u001b[1;33m.\u001b[0m\u001b[0mplot\u001b[0m\u001b[1;33m(\u001b[0m\u001b[0mdata\u001b[0m\u001b[1;33m[\u001b[0m\u001b[1;34m'population'\u001b[0m\u001b[1;33m]\u001b[0m\u001b[1;33m.\u001b[0m\u001b[0mvalues\u001b[0m\u001b[1;33m,\u001b[0m \u001b[0mnp\u001b[0m\u001b[1;33m.\u001b[0m\u001b[0mdot\u001b[0m\u001b[1;33m(\u001b[0m\u001b[0mx\u001b[0m\u001b[1;33m,\u001b[0m \u001b[0mtheta\u001b[0m\u001b[1;33m)\u001b[0m\u001b[1;33m,\u001b[0m \u001b[0mcolor\u001b[0m\u001b[1;33m=\u001b[0m\u001b[1;34m'blue'\u001b[0m\u001b[1;33m)\u001b[0m\u001b[1;33m\u001b[0m\u001b[0m\n\u001b[0;32m      3\u001b[0m \u001b[0mplt\u001b[0m\u001b[1;33m.\u001b[0m\u001b[0mxlabel\u001b[0m\u001b[1;33m(\u001b[0m\u001b[1;34m\"population\"\u001b[0m\u001b[1;33m)\u001b[0m\u001b[1;33m\u001b[0m\u001b[0m\n\u001b[0;32m      4\u001b[0m \u001b[0mplt\u001b[0m\u001b[1;33m.\u001b[0m\u001b[0mylabel\u001b[0m\u001b[1;33m(\u001b[0m\u001b[1;34m\"profit\"\u001b[0m\u001b[1;33m)\u001b[0m\u001b[1;33m\u001b[0m\u001b[0m\n\u001b[0;32m      5\u001b[0m \u001b[0mplt\u001b[0m\u001b[1;33m.\u001b[0m\u001b[0mxlim\u001b[0m\u001b[1;33m(\u001b[0m\u001b[1;36m4\u001b[0m\u001b[1;33m,\u001b[0m \u001b[1;36m25\u001b[0m\u001b[1;33m)\u001b[0m\u001b[1;33m\u001b[0m\u001b[0m\n",
      "\u001b[1;32m/usr/local/lib/python2.7/dist-packages/pandas/core/frame.pyc\u001b[0m in \u001b[0;36m__getitem__\u001b[1;34m(self, key)\u001b[0m\n\u001b[0;32m   1778\u001b[0m             \u001b[1;32mreturn\u001b[0m \u001b[0mself\u001b[0m\u001b[1;33m.\u001b[0m\u001b[0m_getitem_multilevel\u001b[0m\u001b[1;33m(\u001b[0m\u001b[0mkey\u001b[0m\u001b[1;33m)\u001b[0m\u001b[1;33m\u001b[0m\u001b[0m\n\u001b[0;32m   1779\u001b[0m         \u001b[1;32melse\u001b[0m\u001b[1;33m:\u001b[0m\u001b[1;33m\u001b[0m\u001b[0m\n\u001b[1;32m-> 1780\u001b[1;33m             \u001b[1;32mreturn\u001b[0m \u001b[0mself\u001b[0m\u001b[1;33m.\u001b[0m\u001b[0m_getitem_column\u001b[0m\u001b[1;33m(\u001b[0m\u001b[0mkey\u001b[0m\u001b[1;33m)\u001b[0m\u001b[1;33m\u001b[0m\u001b[0m\n\u001b[0m\u001b[0;32m   1781\u001b[0m \u001b[1;33m\u001b[0m\u001b[0m\n\u001b[0;32m   1782\u001b[0m     \u001b[1;32mdef\u001b[0m \u001b[0m_getitem_column\u001b[0m\u001b[1;33m(\u001b[0m\u001b[0mself\u001b[0m\u001b[1;33m,\u001b[0m \u001b[0mkey\u001b[0m\u001b[1;33m)\u001b[0m\u001b[1;33m:\u001b[0m\u001b[1;33m\u001b[0m\u001b[0m\n",
      "\u001b[1;32m/usr/local/lib/python2.7/dist-packages/pandas/core/frame.pyc\u001b[0m in \u001b[0;36m_getitem_column\u001b[1;34m(self, key)\u001b[0m\n\u001b[0;32m   1785\u001b[0m         \u001b[1;31m# get column\u001b[0m\u001b[1;33m\u001b[0m\u001b[1;33m\u001b[0m\u001b[0m\n\u001b[0;32m   1786\u001b[0m         \u001b[1;32mif\u001b[0m \u001b[0mself\u001b[0m\u001b[1;33m.\u001b[0m\u001b[0mcolumns\u001b[0m\u001b[1;33m.\u001b[0m\u001b[0mis_unique\u001b[0m\u001b[1;33m:\u001b[0m\u001b[1;33m\u001b[0m\u001b[0m\n\u001b[1;32m-> 1787\u001b[1;33m             \u001b[1;32mreturn\u001b[0m \u001b[0mself\u001b[0m\u001b[1;33m.\u001b[0m\u001b[0m_get_item_cache\u001b[0m\u001b[1;33m(\u001b[0m\u001b[0mkey\u001b[0m\u001b[1;33m)\u001b[0m\u001b[1;33m\u001b[0m\u001b[0m\n\u001b[0m\u001b[0;32m   1788\u001b[0m \u001b[1;33m\u001b[0m\u001b[0m\n\u001b[0;32m   1789\u001b[0m         \u001b[1;31m# duplicate columns & possible reduce dimensionaility\u001b[0m\u001b[1;33m\u001b[0m\u001b[1;33m\u001b[0m\u001b[0m\n",
      "\u001b[1;32m/usr/local/lib/python2.7/dist-packages/pandas/core/generic.pyc\u001b[0m in \u001b[0;36m_get_item_cache\u001b[1;34m(self, item)\u001b[0m\n\u001b[0;32m   1056\u001b[0m         \u001b[0mres\u001b[0m \u001b[1;33m=\u001b[0m \u001b[0mcache\u001b[0m\u001b[1;33m.\u001b[0m\u001b[0mget\u001b[0m\u001b[1;33m(\u001b[0m\u001b[0mitem\u001b[0m\u001b[1;33m)\u001b[0m\u001b[1;33m\u001b[0m\u001b[0m\n\u001b[0;32m   1057\u001b[0m         \u001b[1;32mif\u001b[0m \u001b[0mres\u001b[0m \u001b[1;32mis\u001b[0m \u001b[0mNone\u001b[0m\u001b[1;33m:\u001b[0m\u001b[1;33m\u001b[0m\u001b[0m\n\u001b[1;32m-> 1058\u001b[1;33m             \u001b[0mvalues\u001b[0m \u001b[1;33m=\u001b[0m \u001b[0mself\u001b[0m\u001b[1;33m.\u001b[0m\u001b[0m_data\u001b[0m\u001b[1;33m.\u001b[0m\u001b[0mget\u001b[0m\u001b[1;33m(\u001b[0m\u001b[0mitem\u001b[0m\u001b[1;33m)\u001b[0m\u001b[1;33m\u001b[0m\u001b[0m\n\u001b[0m\u001b[0;32m   1059\u001b[0m             \u001b[0mres\u001b[0m \u001b[1;33m=\u001b[0m \u001b[0mself\u001b[0m\u001b[1;33m.\u001b[0m\u001b[0m_box_item_values\u001b[0m\u001b[1;33m(\u001b[0m\u001b[0mitem\u001b[0m\u001b[1;33m,\u001b[0m \u001b[0mvalues\u001b[0m\u001b[1;33m)\u001b[0m\u001b[1;33m\u001b[0m\u001b[0m\n\u001b[0;32m   1060\u001b[0m             \u001b[0mcache\u001b[0m\u001b[1;33m[\u001b[0m\u001b[0mitem\u001b[0m\u001b[1;33m]\u001b[0m \u001b[1;33m=\u001b[0m \u001b[0mres\u001b[0m\u001b[1;33m\u001b[0m\u001b[0m\n",
      "\u001b[1;32m/usr/local/lib/python2.7/dist-packages/pandas/core/internals.pyc\u001b[0m in \u001b[0;36mget\u001b[1;34m(self, item, fastpath)\u001b[0m\n\u001b[0;32m   2887\u001b[0m \u001b[1;33m\u001b[0m\u001b[0m\n\u001b[0;32m   2888\u001b[0m             \u001b[1;32mif\u001b[0m \u001b[1;32mnot\u001b[0m \u001b[0misnull\u001b[0m\u001b[1;33m(\u001b[0m\u001b[0mitem\u001b[0m\u001b[1;33m)\u001b[0m\u001b[1;33m:\u001b[0m\u001b[1;33m\u001b[0m\u001b[0m\n\u001b[1;32m-> 2889\u001b[1;33m                 \u001b[0mloc\u001b[0m \u001b[1;33m=\u001b[0m \u001b[0mself\u001b[0m\u001b[1;33m.\u001b[0m\u001b[0mitems\u001b[0m\u001b[1;33m.\u001b[0m\u001b[0mget_loc\u001b[0m\u001b[1;33m(\u001b[0m\u001b[0mitem\u001b[0m\u001b[1;33m)\u001b[0m\u001b[1;33m\u001b[0m\u001b[0m\n\u001b[0m\u001b[0;32m   2890\u001b[0m             \u001b[1;32melse\u001b[0m\u001b[1;33m:\u001b[0m\u001b[1;33m\u001b[0m\u001b[0m\n\u001b[0;32m   2891\u001b[0m                 \u001b[0mindexer\u001b[0m \u001b[1;33m=\u001b[0m \u001b[0mnp\u001b[0m\u001b[1;33m.\u001b[0m\u001b[0marange\u001b[0m\u001b[1;33m(\u001b[0m\u001b[0mlen\u001b[0m\u001b[1;33m(\u001b[0m\u001b[0mself\u001b[0m\u001b[1;33m.\u001b[0m\u001b[0mitems\u001b[0m\u001b[1;33m)\u001b[0m\u001b[1;33m)\u001b[0m\u001b[1;33m[\u001b[0m\u001b[0misnull\u001b[0m\u001b[1;33m(\u001b[0m\u001b[0mself\u001b[0m\u001b[1;33m.\u001b[0m\u001b[0mitems\u001b[0m\u001b[1;33m)\u001b[0m\u001b[1;33m]\u001b[0m\u001b[1;33m\u001b[0m\u001b[0m\n",
      "\u001b[1;32m/usr/local/lib/python2.7/dist-packages/pandas/core/index.pyc\u001b[0m in \u001b[0;36mget_loc\u001b[1;34m(self, key)\u001b[0m\n\u001b[0;32m   1398\u001b[0m         \u001b[0mloc\u001b[0m \u001b[1;33m:\u001b[0m \u001b[0mint\u001b[0m \u001b[1;32mif\u001b[0m \u001b[0munique\u001b[0m \u001b[0mindex\u001b[0m\u001b[1;33m,\u001b[0m \u001b[0mpossibly\u001b[0m \u001b[0mslice\u001b[0m \u001b[1;32mor\u001b[0m \u001b[0mmask\u001b[0m \u001b[1;32mif\u001b[0m \u001b[1;32mnot\u001b[0m\u001b[1;33m\u001b[0m\u001b[0m\n\u001b[0;32m   1399\u001b[0m         \"\"\"\n\u001b[1;32m-> 1400\u001b[1;33m         \u001b[1;32mreturn\u001b[0m \u001b[0mself\u001b[0m\u001b[1;33m.\u001b[0m\u001b[0m_engine\u001b[0m\u001b[1;33m.\u001b[0m\u001b[0mget_loc\u001b[0m\u001b[1;33m(\u001b[0m\u001b[0m_values_from_object\u001b[0m\u001b[1;33m(\u001b[0m\u001b[0mkey\u001b[0m\u001b[1;33m)\u001b[0m\u001b[1;33m)\u001b[0m\u001b[1;33m\u001b[0m\u001b[0m\n\u001b[0m\u001b[0;32m   1401\u001b[0m \u001b[1;33m\u001b[0m\u001b[0m\n\u001b[0;32m   1402\u001b[0m     \u001b[1;32mdef\u001b[0m \u001b[0mget_value\u001b[0m\u001b[1;33m(\u001b[0m\u001b[0mself\u001b[0m\u001b[1;33m,\u001b[0m \u001b[0mseries\u001b[0m\u001b[1;33m,\u001b[0m \u001b[0mkey\u001b[0m\u001b[1;33m)\u001b[0m\u001b[1;33m:\u001b[0m\u001b[1;33m\u001b[0m\u001b[0m\n",
      "\u001b[1;32mpandas/index.pyx\u001b[0m in \u001b[0;36mpandas.index.IndexEngine.get_loc (pandas/index.c:3812)\u001b[1;34m()\u001b[0m\n",
      "\u001b[1;32mpandas/index.pyx\u001b[0m in \u001b[0;36mpandas.index.IndexEngine.get_loc (pandas/index.c:3692)\u001b[1;34m()\u001b[0m\n",
      "\u001b[1;32mpandas/hashtable.pyx\u001b[0m in \u001b[0;36mpandas.hashtable.PyObjectHashTable.get_item (pandas/hashtable.c:12299)\u001b[1;34m()\u001b[0m\n",
      "\u001b[1;32mpandas/hashtable.pyx\u001b[0m in \u001b[0;36mpandas.hashtable.PyObjectHashTable.get_item (pandas/hashtable.c:12250)\u001b[1;34m()\u001b[0m\n",
      "\u001b[1;31mKeyError\u001b[0m: 'population'"
     ]
    }
   ],
   "source": [
    "plt.scatter(data['population'].values, data['profit'].values, color = 'red')\n",
    "plt.plot(data['population'].values, np.dot(x, theta), color='blue')\n",
    "plt.xlabel(\"population\")\n",
    "plt.ylabel(\"profit\")\n",
    "plt.xlim(4, 25)\n",
    "plt.title(\"linear regression result\")"
   ]
  },
  {
   "cell_type": "markdown",
   "metadata": {
    "collapsed": false
   },
   "source": [
    "* 预测\n",
    "\n",
    "预测人口 为35000 和 70000时的值"
   ]
  },
  {
   "cell_type": "code",
   "execution_count": 89,
   "metadata": {
    "collapsed": true
   },
   "outputs": [],
   "source": [
    "# 轮到你了"
   ]
  },
  {
   "cell_type": "code",
   "execution_count": 90,
   "metadata": {
    "collapsed": false
   },
   "outputs": [],
   "source": [
    "pred_x = np.array([[1, 3.5], [1, 7]])\n",
    "\n",
    "pred_y = np.dot(pred_x, theta)"
   ]
  },
  {
   "cell_type": "code",
   "execution_count": 91,
   "metadata": {
    "collapsed": false
   },
   "outputs": [
    {
     "name": "stdout",
     "output_type": "stream",
     "text": [
      "For population = 35,000, we predict a profit of 4519.767868\n",
      "\n",
      "For population = 70,000, we predict a profit of 45342.450129\n",
      "\n"
     ]
    }
   ],
   "source": [
    "print 'For population = 35,000, we predict a profit of %f\\n'  % (pred_y[0] * 10000)\n",
    "print 'For population = 70,000, we predict a profit of %f\\n'  % (pred_y[1] * 10000)"
   ]
  },
  {
   "cell_type": "markdown",
   "metadata": {},
   "source": [
    "* 对误差函数进行可视化分析\n",
    "\n",
    "初始化 theta0 , theta1 两个变量， 使用 np.linspace"
   ]
  },
  {
   "cell_type": "code",
   "execution_count": 92,
   "metadata": {
    "collapsed": true
   },
   "outputs": [],
   "source": [
    "# 轮到你了"
   ]
  },
  {
   "cell_type": "code",
   "execution_count": 93,
   "metadata": {
    "collapsed": false
   },
   "outputs": [],
   "source": [
    "theta0 = np.linspace(-10, 10, 100)\n",
    "theta1 = np.linspace(-1, 4, 100)"
   ]
  },
  {
   "cell_type": "markdown",
   "metadata": {},
   "source": [
    "初始化 J_vals 为一个 0 矩阵， theta0 x theta1 维\n",
    "\n",
    "计算各点 对应的 误差值"
   ]
  },
  {
   "cell_type": "code",
   "execution_count": 94,
   "metadata": {
    "collapsed": true
   },
   "outputs": [],
   "source": [
    "# 轮到你了"
   ]
  },
  {
   "cell_type": "code",
   "execution_count": 95,
   "metadata": {
    "collapsed": false
   },
   "outputs": [
    {
     "name": "stdout",
     "output_type": "stream",
     "text": [
      "4.48045939189   at   -3.73737373737 1.17171717172\n"
     ]
    }
   ],
   "source": [
    "J_vals = np.zeros((len(theta0), len(theta1)))\n",
    "\n",
    "for i in range(len(theta0)):\n",
    "    for j in range(len(theta1)):\n",
    "        t = np.array([theta0[i], theta1[j]])\n",
    "        J_vals[i][j] = compute_cost(x, y, t)\n",
    "\n",
    "minpos = J_vals.argmin() \n",
    "miny= minpos % len(theta0)\n",
    "minx = minpos / len(theta0)\n",
    "print J_vals.min(), '  at  ', theta0[minx], theta1[miny] "
   ]
  },
  {
   "cell_type": "markdown",
   "metadata": {},
   "source": [
    "* 3d绘图\n",
    "\n",
    "提示： \n",
    "\n",
    "1. 3d 绘图可使用 mpl_toolkits.mplot3d.axes3d \n",
    "2. 函数是 plot_surface\n"
   ]
  },
  {
   "cell_type": "code",
   "execution_count": 96,
   "metadata": {
    "collapsed": true
   },
   "outputs": [],
   "source": [
    "# 轮到你了"
   ]
  },
  {
   "cell_type": "code",
   "execution_count": 97,
   "metadata": {
    "collapsed": false
   },
   "outputs": [
    {
     "data": {
      "text/plain": [
       "<matplotlib.text.Text at 0x7f881d1de9d0>"
      ]
     },
     "execution_count": 97,
     "metadata": {},
     "output_type": "execute_result"
    }
   ],
   "source": [
    "import mpl_toolkits.mplot3d.axes3d as p3\n",
    "xzim, yzim = np.meshgrid(theta0, theta1)\n",
    "\n",
    "fig = plt.figure()\n",
    "ax = p3.Axes3D(fig)\n",
    "ax.scatter(theta[0], theta[1], compute_cost(x, y, theta), color='r')\n",
    "ax.plot_surface(xzim, yzim, J_vals.T, color='g', alpha=.5)\n",
    "\n",
    "ax.set_xlabel('theta0')\n",
    "ax.set_ylabel('theta1')\n",
    "ax.set_zlabel(' J ')"
   ]
  },
  {
   "cell_type": "markdown",
   "metadata": {},
   "source": [
    "* 轮廓绘图\n",
    "\n",
    "**注** 因为 contour 的meshgrid 性质， J_vals 需要转置。 我也不知道——反正要转置\n"
   ]
  },
  {
   "cell_type": "code",
   "execution_count": 98,
   "metadata": {
    "collapsed": false
   },
   "outputs": [
    {
     "data": {
      "text/plain": [
       "<matplotlib.collections.PathCollection at 0x7f88129cd350>"
      ]
     },
     "execution_count": 98,
     "metadata": {},
     "output_type": "execute_result"
    }
   ],
   "source": [
    "plt.figure()\n",
    "plt.contour( theta0, theta1,  J_vals.T, np.logspace(-2, 3, 20))\n",
    "plt.xlabel('theta0')\n",
    "plt.ylabel('theta1')\n",
    "plt.scatter(-3.630291, 1.166362 )\n",
    "plt.scatter(0, 0)\n",
    "plt.scatter(-3.737, 1.17171717172)"
   ]
  },
  {
   "cell_type": "markdown",
   "metadata": {
    "collapsed": false
   },
   "source": [
    "### 比较\n",
    "与 sklearn 或 scipy 的现成结果比较"
   ]
  },
  {
   "cell_type": "code",
   "execution_count": 99,
   "metadata": {
    "collapsed": false
   },
   "outputs": [
    {
     "name": "stdout",
     "output_type": "stream",
     "text": [
      "sklearn 得到的结果     为: 截距 -3.895781    斜率  1.193034 \n",
      "你实现的梯度下降结果为: 截距 -3.630291    斜率  1.166362 \n"
     ]
    }
   ],
   "source": [
    "from sklearn.linear_model import LinearRegression as lm\n",
    "columns = data.columns[:-1]\n",
    "model = lm()\n",
    "model.fit(data[columns].values, data['profit'].values)\n",
    "print \"sklearn 得到的结果     为: 截距 %f    斜率  %f \"  % (model.intercept_, model.coef_)\n",
    "print \"你实现的梯度下降结果为: 截距 %f    斜率  %f \" % tuple(theta)\n",
    "pred = model.predict(data[columns].values)\n",
    "\n",
    "plt.figure()\n",
    "plt.scatter(data['population'].values, data['profit'].values)\n",
    "plt.xlabel(\"population\")\n",
    "plt.ylabel(\"profit\")\n",
    "plt.xlim(4, 25)\n",
    "plt.title(u\"linear regression\")\n",
    "prd = model.predict(data[columns].values)\n",
    "plt.plot(data['population'].values, prd, color='red')\n",
    "plt.plot(data['population'].values, np.dot(x, theta) , color='blue')\n",
    "plt.show()"
   ]
  },
  {
   "cell_type": "markdown",
   "metadata": {},
   "source": [
    "## 第二部分 多元线性回归"
   ]
  },
  {
   "cell_type": "markdown",
   "metadata": {
    "collapsed": true
   },
   "source": [
    "* 数据读取， 读取文件 ex1data2.txt"
   ]
  },
  {
   "cell_type": "code",
   "execution_count": 100,
   "metadata": {
    "collapsed": false
   },
   "outputs": [
    {
     "name": "stdout",
     "output_type": "stream",
     "text": [
      "   size  bedroom   price\n",
      "0  2104        3  399900\n",
      "1  1600        3  329900\n",
      "2  2400        3  369000\n"
     ]
    }
   ],
   "source": [
    "data = pd.read_csv('ex1data2.txt',  names=['size', 'bedroom', 'price'])\n",
    "print data.head(3)"
   ]
  },
  {
   "cell_type": "markdown",
   "metadata": {
    "collapsed": true
   },
   "source": [
    "* 特征归一化 feature normalize"
   ]
  },
  {
   "cell_type": "code",
   "execution_count": 101,
   "metadata": {
    "collapsed": true
   },
   "outputs": [],
   "source": [
    "# 轮到你了\n",
    "def feature_normalize(X):\n",
    "    pass"
   ]
  },
  {
   "cell_type": "code",
   "execution_count": 102,
   "metadata": {
    "collapsed": true
   },
   "outputs": [],
   "source": [
    "def feature_normalize(X):\n",
    "    mu = X[X.columns].mean()\n",
    "    sigma = X[X.columns].std()\n",
    "    for col in X.columns:\n",
    "        X[col] = (X[col] - X[col].mean()) / X[col].std()\n",
    "        \n",
    "    return X, mu, sigma"
   ]
  },
  {
   "cell_type": "markdown",
   "metadata": {},
   "source": [
    "对数据进行归一化处理"
   ]
  },
  {
   "cell_type": "code",
   "execution_count": 103,
   "metadata": {
    "collapsed": true
   },
   "outputs": [],
   "source": [
    "ndata, mu, sigma = feature_normalize(data)"
   ]
  },
  {
   "cell_type": "markdown",
   "metadata": {},
   "source": [
    "准备好要线性回归需要的X, y\n",
    "\n",
    "要给上面的特征值添加新的一列， 代表 theta0"
   ]
  },
  {
   "cell_type": "code",
   "execution_count": 104,
   "metadata": {
    "collapsed": true
   },
   "outputs": [],
   "source": [
    "X = np.column_stack([np.ones(len(ndata)), ndata[ndata.columns[:-1]].values])\n",
    "y = ndata['price'].values"
   ]
  },
  {
   "cell_type": "markdown",
   "metadata": {},
   "source": [
    "* 梯度下降\n",
    "\n",
    "如果一元线性回归的梯度下降函数利用了矩阵相乘的方法， 则可以直接用于多元线性回归， 默认可以使用\n",
    "\n",
    "参数初始化"
   ]
  },
  {
   "cell_type": "code",
   "execution_count": 105,
   "metadata": {
    "collapsed": false
   },
   "outputs": [],
   "source": [
    "alpha = 0.01;\n",
    "num_iters = 400;\n",
    "theta = np.zeros(X.shape[1])"
   ]
  },
  {
   "cell_type": "markdown",
   "metadata": {},
   "source": [
    "计算 theta 权重向量"
   ]
  },
  {
   "cell_type": "code",
   "execution_count": 106,
   "metadata": {
    "collapsed": false
   },
   "outputs": [
    {
     "name": "stdout",
     "output_type": "stream",
     "text": [
      "(array([ -1.35004301e-16,   8.00441430e-01,   2.93790099e-02]), [array([ 0.,  0.,  0.]), array([ -8.97627126e-19,   8.36796367e-03,   4.32851306e-03]), array([ -1.79525425e-18,   1.66303056e-02,   8.56880107e-03]), array([ -2.92909904e-18,   2.47885430e-02,   1.27223064e-02]), array([ -4.13380913e-18,   3.28441704e-02,   1.67904489e-02]), array([ -5.05505803e-18,   4.07986599e-02,   2.07746264e-02]), array([ -5.95268515e-18,   4.86534616e-02,   2.46762151e-02]), array([ -6.82669051e-18,   5.64100037e-02,   2.84965695e-02]), array([ -8.10226590e-18,   6.40696932e-02,   3.22370232e-02]), array([ -9.33059776e-18,   7.16339158e-02,   3.58988891e-02]), array([ -1.02518467e-17,   7.91040367e-02,   3.94834595e-02]), array([ -1.13384479e-17,   8.64814003e-02,   4.29920067e-02]), array([ -1.21652097e-17,   9.37673313e-02,   4.64257830e-02]), array([ -1.30392151e-17,   1.00963134e-01,   4.97860214e-02]), array([ -1.41730599e-17,   1.08070094e-01,   5.30739355e-02]), array([ -1.53069047e-17,   1.15089477e-01,   5.62907201e-02]), array([ -1.62517753e-17,   1.22022530e-01,   5.94375514e-02]), array([ -1.73383766e-17,   1.28870482e-01,   6.25155871e-02]), array([ -1.84013561e-17,   1.35634541e-01,   6.55259669e-02]), array([ -1.93698485e-17,   1.42315901e-01,   6.84698128e-02]), array([ -2.03619627e-17,   1.48915735e-01,   7.13482292e-02]), array([ -2.11178592e-17,   1.55435199e-01,   7.41623033e-02]), array([ -2.21808387e-17,   1.61875433e-01,   7.69131052e-02]), array([ -2.32201965e-17,   1.68237560e-01,   7.96016885e-02]), array([ -2.43067977e-17,   1.74522684e-01,   8.22290902e-02]), array([ -2.52516684e-17,   1.80731894e-01,   8.47963311e-02]), array([ -2.61020520e-17,   1.86866263e-01,   8.73044161e-02]), array([ -2.73303838e-17,   1.92926849e-01,   8.97543342e-02]), array([ -2.83461198e-17,   1.98914691e-01,   9.21470592e-02]), array([ -2.91965034e-17,   2.04830815e-01,   9.44835495e-02]), array([ -3.03539699e-17,   2.10676232e-01,   9.67647485e-02]), array([ -3.13460841e-17,   2.16451936e-01,   9.89915849e-02]), array([ -3.23618201e-17,   2.22158907e-01,   1.01164973e-01]), array([ -3.31649601e-17,   2.27798112e-01,   1.03285812e-01]), array([ -3.40862090e-17,   2.33370501e-01,   1.05354988e-01]), array([ -3.51728103e-17,   2.38877012e-01,   1.07373373e-01]), array([ -3.62357898e-17,   2.44318568e-01,   1.09341825e-01]), array([ -3.72987693e-17,   2.49696077e-01,   1.11261189e-01]), array([ -3.83853705e-17,   2.55010437e-01,   1.13132296e-01]), array([ -3.90940235e-17,   2.60262528e-01,   1.14955964e-01]), array([ -3.98971636e-17,   2.65453222e-01,   1.16733000e-01]), array([ -4.09365213e-17,   2.70583374e-01,   1.18464195e-01]), array([ -4.19758790e-17,   2.75653829e-01,   1.20150331e-01]), array([ -4.29679932e-17,   2.80665416e-01,   1.21792176e-01]), array([ -4.37829442e-17,   2.85618956e-01,   1.23390485e-01]), array([ -4.46451386e-17,   2.90515255e-01,   1.24946003e-01]), array([ -4.54719005e-17,   2.95355107e-01,   1.26459463e-01]), array([ -4.63222841e-17,   3.00139297e-01,   1.27931585e-01]), array([ -4.73143983e-17,   3.04868594e-01,   1.29363080e-01]), array([ -4.81647819e-17,   3.09543759e-01,   1.30754644e-01]), array([ -4.90151654e-17,   3.14165541e-01,   1.32106967e-01]), array([ -4.99364143e-17,   3.18734677e-01,   1.33420725e-01]), array([ -5.08930959e-17,   3.23251893e-01,   1.34696583e-01]), array([ -5.18143448e-17,   3.27717906e-01,   1.35935197e-01]), array([ -5.27119719e-17,   3.32133421e-01,   1.37137213e-01]), array([ -5.34678684e-17,   3.36499133e-01,   1.38303265e-01]), array([ -5.45426588e-17,   3.40815725e-01,   1.39433978e-01]), array([ -5.55229621e-17,   3.45083874e-01,   1.40529967e-01]), array([ -5.63969675e-17,   3.49304242e-01,   1.41591838e-01]), array([ -5.69875116e-17,   3.53477485e-01,   1.42620186e-01]), array([ -5.79323823e-17,   3.57604247e-01,   1.43615598e-01]), array([ -5.86528462e-17,   3.61685165e-01,   1.44578651e-01]), array([ -5.93024448e-17,   3.65720864e-01,   1.45509912e-01]), array([ -6.03536134e-17,   3.69711960e-01,   1.46409942e-01]), array([ -6.11095099e-17,   3.73659062e-01,   1.47279289e-01]), array([ -6.19480826e-17,   3.77562769e-01,   1.48118495e-01]), array([ -6.30819274e-17,   3.81423669e-01,   1.48928094e-01]), array([ -6.40386089e-17,   3.85242345e-01,   1.49708609e-01]), array([ -6.49952905e-17,   3.89019370e-01,   1.50460557e-01]), array([ -6.57866197e-17,   3.92755306e-01,   1.51184445e-01]), array([ -6.64834618e-17,   3.96450711e-01,   1.51880773e-01]), array([ -6.74637651e-17,   4.00106131e-01,   1.52550033e-01]), array([ -6.82078507e-17,   4.03722108e-01,   1.53192710e-01]), array([ -6.92117758e-17,   4.07299171e-01,   1.53809279e-01]), array([ -6.98259417e-17,   4.10837846e-01,   1.54400209e-01]), array([ -7.06290818e-17,   4.14338649e-01,   1.54965962e-01]), array([ -7.15739524e-17,   4.17802088e-01,   1.55506991e-01]), array([ -7.25070122e-17,   4.21228664e-01,   1.56023744e-01]), array([ -7.32747196e-17,   4.24618871e-01,   1.56516660e-01]), array([ -7.40424270e-17,   4.27973196e-01,   1.56986171e-01]), array([ -7.49636759e-17,   4.31292119e-01,   1.57432704e-01]), array([ -7.59085466e-17,   4.34576111e-01,   1.57856677e-01]), array([ -7.68179846e-17,   4.37825638e-01,   1.58258502e-01]), array([ -7.75148267e-17,   4.41041159e-01,   1.58638586e-01]), array([ -7.81998579e-17,   4.44223126e-01,   1.58997327e-01]), array([ -7.88258347e-17,   4.47371985e-01,   1.59335117e-01]), array([ -7.96525966e-17,   4.50488173e-01,   1.59652345e-01]), array([ -8.02077081e-17,   4.53572124e-01,   1.59949389e-01]), array([ -8.07391978e-17,   4.56624264e-01,   1.60226624e-01]), array([ -8.14950944e-17,   4.59645012e-01,   1.60484419e-01]), array([ -8.21565038e-17,   4.62634783e-01,   1.60723135e-01]), array([ -8.28061024e-17,   4.65593984e-01,   1.60943129e-01]), array([ -8.36801078e-17,   4.68523016e-01,   1.61144752e-01]), array([ -8.42234084e-17,   4.71422277e-01,   1.61328350e-01]), array([ -8.50501702e-17,   4.74292156e-01,   1.61494260e-01]), array([ -8.54753620e-17,   4.77133037e-01,   1.61642819e-01]), array([ -8.61013388e-17,   4.79945299e-01,   1.61774354e-01]), array([ -8.65265306e-17,   4.82729317e-01,   1.61889189e-01]), array([ -8.68690462e-17,   4.85485457e-01,   1.61987642e-01]), array([ -8.72469945e-17,   4.88214083e-01,   1.62070026e-01]), array([ -8.76485645e-17,   4.90915551e-01,   1.62136650e-01]), array([ -8.81091890e-17,   4.93590215e-01,   1.62187816e-01]), array([ -8.86052461e-17,   4.96238420e-01,   1.62223823e-01]), array([ -8.92902773e-17,   4.98860510e-01,   1.62244964e-01]), array([ -8.96209820e-17,   5.01456821e-01,   1.62251528e-01]), array([ -9.00343629e-17,   5.04027685e-01,   1.62243798e-01]), array([ -9.05776636e-17,   5.06573429e-01,   1.62222054e-01]), array([ -9.08965574e-17,   5.09094378e-01,   1.62186571e-01]), array([ -9.13453710e-17,   5.11590847e-01,   1.62137619e-01]), array([ -9.20067804e-17,   5.14063151e-01,   1.62075464e-01]), array([ -9.25264593e-17,   5.16511599e-01,   1.62000368e-01]), array([ -9.29988946e-17,   5.18936495e-01,   1.61912589e-01]), array([ -9.32823558e-17,   5.21338139e-01,   1.61812378e-01]), array([ -9.38610891e-17,   5.23716827e-01,   1.61699986e-01]), array([ -9.42036047e-17,   5.26072849e-01,   1.61575658e-01]), array([ -9.46287965e-17,   5.28406495e-01,   1.61439634e-01]), array([ -9.49949339e-17,   5.30718046e-01,   1.61292152e-01]), array([ -9.55382345e-17,   5.33007781e-01,   1.61133445e-01]), array([ -9.61996440e-17,   5.35275976e-01,   1.60963742e-01]), array([ -9.70027841e-17,   5.37522902e-01,   1.60783269e-01]), array([ -9.74161650e-17,   5.39748826e-01,   1.60592248e-01]), array([ -9.77823023e-17,   5.41954011e-01,   1.60390898e-01]), array([ -9.83019812e-17,   5.44138716e-01,   1.60179432e-01]), array([ -9.87744165e-17,   5.46303199e-01,   1.59958063e-01]), array([ -9.90933104e-17,   5.48447710e-01,   1.59726998e-01]), array([ -9.96602328e-17,   5.50572499e-01,   1.59486441e-01]), array([ -1.00191723e-16,   5.52677811e-01,   1.59236594e-01]), array([ -1.00782267e-16,   5.54763886e-01,   1.58977654e-01]), array([ -1.01325567e-16,   5.56830964e-01,   1.58709815e-01]), array([ -1.01892490e-16,   5.58879279e-01,   1.58433270e-01]), array([ -1.02128707e-16,   5.60909062e-01,   1.58148204e-01]), array([ -1.02672008e-16,   5.62920542e-01,   1.57854805e-01]), array([ -1.03120822e-16,   5.64913942e-01,   1.57553253e-01]), array([ -1.03522392e-16,   5.66889486e-01,   1.57243728e-01]), array([ -1.04112936e-16,   5.68847390e-01,   1.56926405e-01]), array([ -1.04549938e-16,   5.70787871e-01,   1.56601457e-01]), array([ -1.05128672e-16,   5.72711142e-01,   1.56269055e-01]), array([ -1.05742838e-16,   5.74617410e-01,   1.55929366e-01]), array([ -1.06156219e-16,   5.76506883e-01,   1.55582554e-01]), array([ -1.06439680e-16,   5.78379764e-01,   1.55228780e-01]), array([ -1.06935737e-16,   5.80236254e-01,   1.54868205e-01]), array([ -1.07419983e-16,   5.82076549e-01,   1.54500985e-01]), array([ -1.07715255e-16,   5.83900846e-01,   1.54127273e-01]), array([ -1.08140447e-16,   5.85709337e-01,   1.53747220e-01]), array([ -1.08660126e-16,   5.87502210e-01,   1.53360975e-01]), array([ -1.09144372e-16,   5.89279652e-01,   1.52968685e-01]), array([ -1.09864836e-16,   5.91041849e-01,   1.52570493e-01]), array([ -1.10148297e-16,   5.92788980e-01,   1.52166540e-01]), array([ -1.10667976e-16,   5.94521226e-01,   1.51756966e-01]), array([ -1.11057735e-16,   5.96238763e-01,   1.51341906e-01]), array([ -1.11317575e-16,   5.97941764e-01,   1.50921496e-01]), array([ -1.11648279e-16,   5.99630402e-01,   1.50495868e-01]), array([ -1.11813632e-16,   6.01304846e-01,   1.50065150e-01]), array([ -1.12108904e-16,   6.02965262e-01,   1.49629471e-01]), array([ -1.12356932e-16,   6.04611814e-01,   1.49188956e-01]), array([ -1.12522285e-16,   6.06244666e-01,   1.48743729e-01]), array([ -1.12923855e-16,   6.07863977e-01,   1.48293910e-01]), array([ -1.13195505e-16,   6.09469904e-01,   1.47839619e-01]), array([ -1.13644319e-16,   6.11062604e-01,   1.47380973e-01]), array([ -1.13975023e-16,   6.12642229e-01,   1.46918087e-01]), array([ -1.14341161e-16,   6.14208931e-01,   1.46451074e-01]), array([ -1.14412026e-16,   6.15762858e-01,   1.45980046e-01]), array([ -1.14660055e-16,   6.17304159e-01,   1.45505111e-01]), array([ -1.14978948e-16,   6.18832977e-01,   1.45026377e-01]), array([ -1.15215166e-16,   6.20349456e-01,   1.44543951e-01]), array([ -1.15356897e-16,   6.21853737e-01,   1.44057934e-01]), array([ -1.15852954e-16,   6.23345959e-01,   1.43568431e-01]), array([ -1.16148226e-16,   6.24826259e-01,   1.43075540e-01]), array([ -1.16467120e-16,   6.26294772e-01,   1.42579360e-01]), array([ -1.16809635e-16,   6.27751631e-01,   1.42079988e-01]), array([ -1.16974988e-16,   6.29196969e-01,   1.41577519e-01]), array([ -1.17258449e-16,   6.30630915e-01,   1.41072047e-01]), array([ -1.17423801e-16,   6.32053597e-01,   1.40563663e-01]), array([ -1.17778128e-16,   6.33465141e-01,   1.40052458e-01]), array([ -1.17730884e-16,   6.34865671e-01,   1.39538520e-01]), array([ -1.18097022e-16,   6.36255311e-01,   1.39021937e-01]), array([ -1.18250563e-16,   6.37634181e-01,   1.38502793e-01]), array([ -1.18557646e-16,   6.39002401e-01,   1.37981174e-01]), array([ -1.18722998e-16,   6.40360088e-01,   1.37457161e-01]), array([ -1.19136379e-16,   6.41707360e-01,   1.36930836e-01]), array([ -1.19278110e-16,   6.43044330e-01,   1.36402278e-01]), array([ -1.19573382e-16,   6.44371111e-01,   1.35871566e-01]), array([ -1.19951330e-16,   6.45687816e-01,   1.35338777e-01]), array([ -1.20116683e-16,   6.46994554e-01,   1.34803987e-01]), array([ -1.20411955e-16,   6.48291433e-01,   1.34267268e-01]), array([ -1.20695416e-16,   6.49578561e-01,   1.33728696e-01]), array([ -1.21073364e-16,   6.50856043e-01,   1.33188340e-01]), array([ -1.21333204e-16,   6.52123983e-01,   1.32646271e-01]), array([ -1.21392258e-16,   6.53382485e-01,   1.32102559e-01]), array([ -1.21675719e-16,   6.54631650e-01,   1.31557271e-01]), array([ -1.22006424e-16,   6.55871576e-01,   1.31010474e-01]), array([ -1.22278074e-16,   6.57102365e-01,   1.30462233e-01]), array([ -1.22656022e-16,   6.58324112e-01,   1.29912612e-01]), array([ -1.23057592e-16,   6.59536913e-01,   1.29361675e-01]), array([ -1.23222945e-16,   6.60740864e-01,   1.28809483e-01]), array([ -1.23907976e-16,   6.61936058e-01,   1.28256098e-01]), array([ -1.24049707e-16,   6.63122587e-01,   1.27701578e-01]), array([ -1.24380411e-16,   6.64300543e-01,   1.27145982e-01]), array([ -1.24663873e-16,   6.65470014e-01,   1.26589369e-01]), array([ -1.25041821e-16,   6.66631090e-01,   1.26031794e-01]), array([ -1.25337093e-16,   6.67783858e-01,   1.25473312e-01]), array([ -1.25620554e-16,   6.68928405e-01,   1.24913979e-01]), array([ -1.25573311e-16,   6.70064815e-01,   1.24353848e-01]), array([ -1.25573311e-16,   6.71193172e-01,   1.23792970e-01]), array([ -1.25620554e-16,   6.72313560e-01,   1.23231398e-01]), array([ -1.25715041e-16,   6.73426060e-01,   1.22669182e-01]), array([ -1.25892204e-16,   6.74530753e-01,   1.22106371e-01]), array([ -1.26175666e-16,   6.75627719e-01,   1.21543014e-01]), array([ -1.26435505e-16,   6.76717036e-01,   1.20979160e-01]), array([ -1.26742588e-16,   6.77798782e-01,   1.20414853e-01]), array([ -1.27002427e-16,   6.78873033e-01,   1.19850141e-01]), array([ -1.27238645e-16,   6.79939865e-01,   1.19285069e-01]), array([ -1.27403998e-16,   6.80999353e-01,   1.18719680e-01]), array([ -1.27770135e-16,   6.82051569e-01,   1.18154018e-01]), array([ -1.28053596e-16,   6.83096588e-01,   1.17588126e-01]), array([ -1.28242570e-16,   6.84134480e-01,   1.17022045e-01]), array([ -1.28620518e-16,   6.85165317e-01,   1.16455817e-01]), array([ -1.29045710e-16,   6.86189168e-01,   1.15889480e-01]), array([ -1.29258306e-16,   6.87206102e-01,   1.15323076e-01]), array([ -1.29553578e-16,   6.88216187e-01,   1.14756641e-01]), array([ -1.29789796e-16,   6.89219490e-01,   1.14190214e-01]), array([ -1.30037824e-16,   6.90216079e-01,   1.13623833e-01]), array([ -1.30214988e-16,   6.91206017e-01,   1.13057533e-01]), array([ -1.30285853e-16,   6.92189370e-01,   1.12491350e-01]), array([ -1.30191366e-16,   6.93166203e-01,   1.11925319e-01]), array([ -1.30569314e-16,   6.94136576e-01,   1.11359475e-01]), array([ -1.30569314e-16,   6.95100554e-01,   1.10793850e-01]), array([ -1.30604747e-16,   6.96058197e-01,   1.10228479e-01]), array([ -1.30911830e-16,   6.97009565e-01,   1.09663392e-01]), array([ -1.31100804e-16,   6.97954720e-01,   1.09098622e-01]), array([ -1.31195291e-16,   6.98893719e-01,   1.08534199e-01]), array([ -1.31266156e-16,   6.99826621e-01,   1.07970155e-01]), array([ -1.31384265e-16,   7.00753484e-01,   1.07406518e-01]), array([ -1.31360643e-16,   7.01674365e-01,   1.06843317e-01]), array([ -1.31431509e-16,   7.02589320e-01,   1.06280582e-01]), array([ -1.31573239e-16,   7.03498403e-01,   1.05718341e-01]), array([ -1.31372454e-16,   7.04401671e-01,   1.05156619e-01]), array([ -1.31455130e-16,   7.05299176e-01,   1.04595446e-01]), array([ -1.31785835e-16,   7.06190974e-01,   1.04034845e-01]), array([ -1.31762213e-16,   7.07077115e-01,   1.03474844e-01]), array([ -1.31726781e-16,   7.07957652e-01,   1.02915467e-01]), array([ -1.31892133e-16,   7.08832637e-01,   1.02356739e-01]), array([ -1.32057486e-16,   7.09702121e-01,   1.01798684e-01]), array([ -1.32211027e-16,   7.10566153e-01,   1.01241326e-01]), array([ -1.32400001e-16,   7.11424783e-01,   1.00684687e-01]), array([ -1.32340947e-16,   7.12278061e-01,   1.00128791e-01]), array([ -1.32270081e-16,   7.13126033e-01,   9.95736586e-02]), array([ -1.32246460e-16,   7.13968749e-01,   9.90193123e-02]), array([ -1.32364568e-16,   7.14806255e-01,   9.84657730e-02]), array([ -1.32671651e-16,   7.15638598e-01,   9.79130613e-02]), array([ -1.32801571e-16,   7.16465824e-01,   9.73611974e-02]), array([ -1.32919680e-16,   7.17287978e-01,   9.68102012e-02]), array([ -1.33002356e-16,   7.18105105e-01,   9.62600918e-02]), array([ -1.33262196e-16,   7.18917250e-01,   9.57108882e-02]), array([ -1.33368494e-16,   7.19724456e-01,   9.51626087e-02]), array([ -1.33557468e-16,   7.20526766e-01,   9.46152715e-02]), array([ -1.33604711e-16,   7.21324224e-01,   9.40688942e-02]), array([ -1.33899983e-16,   7.22116871e-01,   9.35234938e-02]), array([ -1.33817307e-16,   7.22904750e-01,   9.29790873e-02]), array([ -1.33899983e-16,   7.23687901e-01,   9.24356911e-02]), array([ -1.34088957e-16,   7.24466365e-01,   9.18933211e-02]), array([ -1.33982659e-16,   7.25240183e-01,   9.13519930e-02]), array([ -1.34100768e-16,   7.26009394e-01,   9.08117221e-02]), array([ -1.34372419e-16,   7.26774037e-01,   9.02725232e-02]), array([ -1.34514149e-16,   7.27534152e-01,   8.97344110e-02]), array([ -1.34537771e-16,   7.28289776e-01,   8.91973996e-02]), array([ -1.34714934e-16,   7.29040949e-01,   8.86615028e-02]), array([ -1.34762178e-16,   7.29787706e-01,   8.81267341e-02]), array([ -1.34691312e-16,   7.30530085e-01,   8.75931067e-02]), array([ -1.34644069e-16,   7.31268123e-01,   8.70606334e-02]), array([ -1.34632258e-16,   7.32001856e-01,   8.65293268e-02]), array([ -1.34785800e-16,   7.32731320e-01,   8.59991989e-02]), array([ -1.34785800e-16,   7.33456549e-01,   8.54702616e-02]), array([ -1.34714934e-16,   7.34177580e-01,   8.49425265e-02]), array([ -1.34998395e-16,   7.34894446e-01,   8.44160049e-02]), array([ -1.34809421e-16,   7.35607181e-01,   8.38907076e-02]), array([ -1.34667691e-16,   7.36315819e-01,   8.33666454e-02]), array([ -1.34927530e-16,   7.37020394e-01,   8.28438286e-02]), array([ -1.35022017e-16,   7.37720939e-01,   8.23222673e-02]), array([ -1.35116504e-16,   7.38417485e-01,   8.18019712e-02]), array([ -1.35364533e-16,   7.39110066e-01,   8.12829500e-02]), array([ -1.35388155e-16,   7.39798713e-01,   8.07652129e-02]), array([ -1.35270046e-16,   7.40483457e-01,   8.02487688e-02]), array([ -1.35293668e-16,   7.41164330e-01,   7.97336265e-02]), array([ -1.35305478e-16,   7.41841363e-01,   7.92197945e-02]), array([ -1.35423587e-16,   7.42514585e-01,   7.87072810e-02]), array([ -1.35588940e-16,   7.43184027e-01,   7.81960939e-02]), array([ -1.35659805e-16,   7.43849719e-01,   7.76862411e-02]), array([ -1.35718859e-16,   7.44511689e-01,   7.71777300e-02]), array([ -1.35766103e-16,   7.45169968e-01,   7.66705678e-02]), array([ -1.35836968e-16,   7.45824583e-01,   7.61647617e-02]), array([ -1.35777914e-16,   7.46475564e-01,   7.56603183e-02]), array([ -1.35836968e-16,   7.47122938e-01,   7.51572443e-02]), array([ -1.35789725e-16,   7.47766733e-01,   7.46555461e-02]), array([ -1.35955077e-16,   7.48406977e-01,   7.41552298e-02]), array([ -1.35966888e-16,   7.49043696e-01,   7.36563013e-02]), array([ -1.36203106e-16,   7.49676918e-01,   7.31587664e-02]), array([ -1.36179484e-16,   7.50306670e-01,   7.26626306e-02]), array([ -1.36333025e-16,   7.50932977e-01,   7.21678992e-02]), array([ -1.36451134e-16,   7.51555865e-01,   7.16745774e-02]), array([ -1.36368458e-16,   7.52175361e-01,   7.11826700e-02]), array([ -1.36521999e-16,   7.52791490e-01,   7.06921820e-02]), array([ -1.36474756e-16,   7.53404276e-01,   7.02031177e-02]), array([ -1.36628297e-16,   7.54013746e-01,   6.97154816e-02]), array([ -1.36651919e-16,   7.54619922e-01,   6.92292779e-02]), array([ -1.36663730e-16,   7.55222831e-01,   6.87445106e-02]), array([ -1.36746406e-16,   7.55822496e-01,   6.82611836e-02]), array([ -1.36923569e-16,   7.56418940e-01,   6.77793006e-02]), array([ -1.37100733e-16,   7.57012188e-01,   6.72988650e-02]), array([ -1.37431437e-16,   7.57602263e-01,   6.68198803e-02]), array([ -1.37431437e-16,   7.58189188e-01,   6.63423495e-02]), array([ -1.37419627e-16,   7.58772985e-01,   6.58662758e-02]), array([ -1.37455059e-16,   7.59353678e-01,   6.53916620e-02]), array([ -1.37384194e-16,   7.59931289e-01,   6.49185109e-02]), array([ -1.37514114e-16,   7.60505839e-01,   6.44468250e-02]), array([ -1.37644033e-16,   7.61077351e-01,   6.39766068e-02]), array([ -1.37537735e-16,   7.61645847e-01,   6.35078585e-02]), array([ -1.37584979e-16,   7.62211348e-01,   6.30405823e-02]), array([ -1.37525924e-16,   7.62773875e-01,   6.25747802e-02]), array([ -1.37514114e-16,   7.63333449e-01,   6.21104541e-02]), array([ -1.37561357e-16,   7.63890091e-01,   6.16476057e-02]), array([ -1.37750331e-16,   7.64443822e-01,   6.11862366e-02]), array([ -1.38021982e-16,   7.64994663e-01,   6.07263482e-02]), array([ -1.38033792e-16,   7.65542632e-01,   6.02679421e-02]), array([ -1.37892062e-16,   7.66087750e-01,   5.98110192e-02]), array([ -1.38021982e-16,   7.66630038e-01,   5.93555809e-02]), array([ -1.38092847e-16,   7.67169514e-01,   5.89016280e-02]), array([ -1.38092847e-16,   7.67706198e-01,   5.84491614e-02]), array([ -1.38128279e-16,   7.68240109e-01,   5.79981820e-02]), array([ -1.38086941e-16,   7.68771266e-01,   5.75486902e-02]), array([ -1.38252294e-16,   7.69299688e-01,   5.71006867e-02]), array([ -1.38051509e-16,   7.69825394e-01,   5.66541719e-02]), array([ -1.38110563e-16,   7.70348401e-01,   5.62091461e-02]), array([ -1.38199145e-16,   7.70868729e-01,   5.57656095e-02]), array([ -1.38352686e-16,   7.71386395e-01,   5.53235622e-02]), array([ -1.38246388e-16,   7.71901417e-01,   5.48830043e-02]), array([ -1.38193239e-16,   7.72413813e-01,   5.44439356e-02]), array([ -1.38293632e-16,   7.72923600e-01,   5.40063560e-02]), array([ -1.38222767e-16,   7.73430796e-01,   5.35702652e-02]), array([ -1.38234577e-16,   7.73935418e-01,   5.31356628e-02]), array([ -1.38293632e-16,   7.74437483e-01,   5.27025483e-02]), array([ -1.38210956e-16,   7.74937008e-01,   5.22709213e-02]), array([ -1.38081036e-16,   7.75434009e-01,   5.18407810e-02]), array([ -1.37880251e-16,   7.75928504e-01,   5.14121268e-02]), array([ -1.37614506e-16,   7.76420508e-01,   5.09849578e-02]), array([ -1.37685371e-16,   7.76910038e-01,   5.05592732e-02]), array([ -1.37437343e-16,   7.77397109e-01,   5.01350720e-02]), array([ -1.37638128e-16,   7.77881739e-01,   4.97123532e-02]), array([ -1.37531830e-16,   7.78363942e-01,   4.92911155e-02]), array([ -1.37514114e-16,   7.78843734e-01,   4.88713579e-02]), array([ -1.37596790e-16,   7.79321131e-01,   4.84530790e-02]), array([ -1.37502303e-16,   7.79796148e-01,   4.80362775e-02]), array([ -1.37437343e-16,   7.80268800e-01,   4.76209521e-02]), array([ -1.37218841e-16,   7.80739102e-01,   4.72071011e-02]), array([ -1.37059395e-16,   7.81207069e-01,   4.67947231e-02]), array([ -1.36894042e-16,   7.81672717e-01,   4.63838164e-02]), array([ -1.37047584e-16,   7.82136059e-01,   4.59743793e-02]), array([ -1.36775933e-16,   7.82597110e-01,   4.55664102e-02]), array([ -1.36734595e-16,   7.83055884e-01,   4.51599071e-02]), array([ -1.36675541e-16,   7.83512397e-01,   4.47548683e-02]), array([ -1.36545621e-16,   7.83966661e-01,   4.43512917e-02]), array([ -1.36663730e-16,   7.84418690e-01,   4.39491754e-02]), array([ -1.36498378e-16,   7.84868500e-01,   4.35485174e-02]), array([ -1.36640108e-16,   7.85316103e-01,   4.31493155e-02]), array([ -1.36764122e-16,   7.85761513e-01,   4.27515676e-02]), array([ -1.36834988e-16,   7.86204744e-01,   4.23552714e-02]), array([ -1.36888137e-16,   7.86645808e-01,   4.19604248e-02]), array([ -1.36882231e-16,   7.87084720e-01,   4.15670253e-02]), array([ -1.36734595e-16,   7.87521492e-01,   4.11750707e-02]), array([ -1.36905853e-16,   7.87956137e-01,   4.07845585e-02]), array([ -1.36988529e-16,   7.88388669e-01,   4.03954862e-02]), array([ -1.37100733e-16,   7.88819099e-01,   4.00078513e-02]), array([ -1.37059395e-16,   7.89247442e-01,   3.96216514e-02]), array([ -1.37124354e-16,   7.89673708e-01,   3.92368837e-02]), array([ -1.37077111e-16,   7.90097912e-01,   3.88535457e-02]), array([ -1.37171598e-16,   7.90520064e-01,   3.84716347e-02]), array([ -1.37207031e-16,   7.90940178e-01,   3.80911478e-02]), array([ -1.37165693e-16,   7.91358265e-01,   3.77120825e-02]), array([ -1.37319234e-16,   7.91774338e-01,   3.73344358e-02]), array([ -1.37390099e-16,   7.92188409e-01,   3.69582049e-02]), array([ -1.37307423e-16,   7.92600488e-01,   3.65833869e-02]), array([ -1.37147976e-16,   7.93010589e-01,   3.62099790e-02]), array([ -1.37195220e-16,   7.93418723e-01,   3.58379781e-02]), array([ -1.37266085e-16,   7.93824901e-01,   3.54673813e-02]), array([ -1.37195220e-16,   7.94229134e-01,   3.50981856e-02]), array([ -1.36864515e-16,   7.94631435e-01,   3.47303878e-02]), array([ -1.36829082e-16,   7.95031814e-01,   3.43639850e-02]), array([ -1.36781839e-16,   7.95430282e-01,   3.39989739e-02]), array([ -1.36586959e-16,   7.95826851e-01,   3.36353515e-02]), array([ -1.36504283e-16,   7.96221531e-01,   3.32731145e-02]), array([ -1.36256255e-16,   7.96614334e-01,   3.29122597e-02]), array([ -1.36020037e-16,   7.97005270e-01,   3.25527839e-02]), array([ -1.35748387e-16,   7.97394350e-01,   3.21946839e-02]), array([ -1.35772008e-16,   7.97781585e-01,   3.18379564e-02]), array([ -1.35677521e-16,   7.98166985e-01,   3.14825979e-02]), array([ -1.35523980e-16,   7.98550560e-01,   3.11286052e-02]), array([ -1.35594845e-16,   7.98932321e-01,   3.07759750e-02]), array([ -1.35311384e-16,   7.99312279e-01,   3.04247038e-02]), array([ -1.35299573e-16,   7.99690442e-01,   3.00747881e-02]), array([ -1.34974774e-16,   8.00066823e-01,   2.97262247e-02]), array([ -1.35004301e-16,   8.00441430e-01,   2.93790099e-02])])\n"
     ]
    }
   ],
   "source": [
    "theta = gradient_descent(X, y, theta, alpha, num_iters)\n",
    "print theta\n"
   ]
  },
  {
   "cell_type": "markdown",
   "metadata": {
    "collapsed": true
   },
   "source": [
    "# 未完待续"
   ]
  }
 ],
 "metadata": {
  "kernelspec": {
   "display_name": "Python 2",
   "language": "python",
   "name": "python2"
  },
  "language_info": {
   "codemirror_mode": {
    "name": "ipython",
    "version": 2
   },
   "file_extension": ".py",
   "mimetype": "text/x-python",
   "name": "python",
   "nbconvert_exporter": "python",
   "pygments_lexer": "ipython2",
   "version": "2.7.6"
  }
 },
 "nbformat": 4,
 "nbformat_minor": 0
}
