{
 "cells": [
  {
   "cell_type": "markdown",
   "metadata": {},
   "source": [
    "# 统计学习方法 笔记\n",
    "\n",
    "## ————python 实现及练习 \n",
    "\n",
    "李航的《统计学习方法》一书， 对统计机器学习作了很好的理论概述。\n",
    "\n",
    "全书理论十足， 但没有相应的实践代码， 正好可以来练手。"
   ]
  },
  {
   "cell_type": "markdown",
   "metadata": {},
   "source": [
    "\n",
    "# 第二章 感知器\n",
    "\n",
    "动手实现之前可以先看看[zhimind教程](http://www.zhimind.com/tutorial/0c089ff0-48f8-43ed-a84f-760d73a1a68d)， 虽然感知器理论不算太复杂。\n",
    "\n",
    "感知器学习算法 简单而易于实现， 分为原始形式和对偶形式， 是 支持向量机、 神经网络的基础\n",
    "\n",
    "特征：\n",
    "\n",
    "1. 二元分类的线性分类器\n",
    "2. 输入为实例的特征向量\n",
    "3. 输出为类别， 取+1 或 -1 值\n",
    "\n",
    "即输入空间中， 将实例划分正负两类的超平面。"
   ]
  },
  {
   "cell_type": "markdown",
   "metadata": {},
   "source": [
    "### 前期准备\n",
    "\n",
    "导入相应包， 所以建议您有一定的 numpy, matplotlib, sklearn 基础, 或者还有pandas。 python基础更是必要的——这毕竟不是基于R或其他语言的。\n"
   ]
  },
  {
   "cell_type": "code",
   "execution_count": 1,
   "metadata": {
    "collapsed": false
   },
   "outputs": [],
   "source": [
    "%matplotlib inline\n",
    "import numpy as np\n",
    "import matplotlib.pyplot as plt\n",
    "from sklearn.linear_model import SGDClassifier"
   ]
  },
  {
   "cell_type": "markdown",
   "metadata": {
    "collapsed": true
   },
   "source": [
    "首先， 我们要使用 sciki-learn 的数据生成器来生成随机数据——简单体验，数据不好找。\n",
    "\n",
    "* 生成随机数据\n",
    "\n",
    "方案： 使用 make_blobs ( [make_blobs](http://scikit-learn.org/stable/modules/generated/sklearn.datasets.make_blobs.html))\n",
    "\n",
    "1. 数据量设定为 n=50\n",
    "2. 只设定两类\n",
    "3. 两类数据划分明确， 不存在混合，尽量让数据线性可分(但建议cluster_std=0.85)，免得明显用一条y=???就能划分。"
   ]
  },
  {
   "cell_type": "code",
   "execution_count": null,
   "metadata": {
    "collapsed": true
   },
   "outputs": [],
   "source": [
    "# Todo， 练习熟悉、 复习\n",
    "# 生成 50个两类、线性可分的随机数据\n",
    "\n",
    "import sklearn.datasets as dss\n",
    "\n",
    "data, data_class = None\n",
    "\n",
    "assert len(data) == 50, u\"数据个数不对\"\n",
    "assert len(data_class) == 50, u\"数据类别个数不对\"\n",
    "assert data_class.tolist().count(0) + data_class.tolist().count(1) == 50, u\"应该是0和1两类数据\""
   ]
  },
  {
   "cell_type": "code",
   "execution_count": 32,
   "metadata": {
    "collapsed": false
   },
   "outputs": [
    {
     "data": {
      "text/plain": [
       "<matplotlib.collections.PathCollection at 0xbf86b00>"
      ]
     },
     "execution_count": 32,
     "metadata": {},
     "output_type": "execute_result"
    },
    {
     "data": {
      "image/png": "[encoded data removed]",
      "text/plain": [
       "<matplotlib.figure.Figure at 0xbde0390>"
      ]
     },
     "metadata": {},
     "output_type": "display_data"
    }
   ],
   "source": [
    "import sklearn.datasets as dss\n",
    "\n",
    "n_samples = 50\n",
    "\n",
    "data, data_class = dss.make_blobs(n_samples=50, centers=2, random_state=0, cluster_std=0.9)\n",
    "\n",
    "cl = ['r' if e else 'g' for e in data_class]\n",
    "\n",
    "plt.scatter(data[:, 0], data[:, 1], c=cl)"
   ]
  },
  {
   "cell_type": "markdown",
   "metadata": {},
   "source": [
    "* 绘图\n",
    "\n",
    "使用plt.scatter 绘制散点图——总不能绘成折线图、饼状图什么的。\n",
    "\n",
    "但我们要使用不同颜色标注， 这里定为 red 和 green\n",
    "\n",
    "matplotlib的scatter 使用手册见 [scatter api](http://matplotlib.org/api/pyplot_api.html?highlight=scatter#matplotlib.pyplot.scatter)"
   ]
  },
  {
   "cell_type": "code",
   "execution_count": 15,
   "metadata": {
    "collapsed": true
   },
   "outputs": [],
   "source": [
    "# Todo， 练习\n",
    "# scatter需要一个参数， 传递数据点对应颜色\n",
    "# 我看得有点晕， 数值型不会弄， 要求您把0、1转成 红色和绿色\n",
    "\n",
    "cl = None\n",
    "\n",
    "assert cl.count('r') + cl.count('g') == 50, u\"应该是 红色 和 绿色 两类数据\""
   ]
  },
  {
   "cell_type": "code",
   "execution_count": null,
   "metadata": {
    "collapsed": false,
    "scrolled": false
   },
   "outputs": [],
   "source": [
    "# Todo， 练习\n",
    "# 调用scatter 绘制图案\n",
    "\n",
    "plt.scatter( )"
   ]
  },
  {
   "cell_type": "markdown",
   "metadata": {},
   "source": [
    "## 理论简述\n",
    "\n",
    "### 模型定义：\n",
    "\n",
    "输入空间（特征空间）是 $ X \\subset R^n $\n",
    "\n",
    "输入空间到输出空间的如下函数  $$ f(x) = sign(w \\cdot x + b) $$ 称为感知器\n",
    "\n",
    "其中 w 和 b是感知器的模型参数， w 是权值或权值向量， b 是偏置(bias、 residual)\n",
    "\n",
    "make_blobs 生成的是二维数据， n = 2， 所以一条直线就可以划分， w 是一维向量， 加上第0维的 b， 用 theta 表示为:\n",
    "\n",
    "$ \\theta = (b , w_1) $\n",
    "\n",
    "初始化， 令b=0(为了验证), w=0, 即 theta = [0,0] , 请注意，  请使用ndarray"
   ]
  },
  {
   "cell_type": "code",
   "execution_count": 42,
   "metadata": {
    "collapsed": false
   },
   "outputs": [],
   "source": [
    "# Todo， 练习\n",
    "# 初始化， 令 theta = [0, 0]\n",
    "\n",
    "theta = np.zeros(2)\n",
    "\n",
    "assert len(theta) == 2, u'2维向量'\n",
    "assert theta.tolist().count(0) == 2, u'说好的2维0向量'"
   ]
  },
  {
   "cell_type": "markdown",
   "metadata": {},
   "source": [
    "## 数据准备\n",
    "\n",
    "把data 拆成 X 和 y, 把X改成50行2列的矩阵， 第一列设定为1， 对应w_0即b。"
   ]
  },
  {
   "cell_type": "code",
   "execution_count": 60,
   "metadata": {
    "collapsed": false
   },
   "outputs": [],
   "source": [
    "# Todo， 练习\n",
    "# 把data 拆成 X 和 y, 把X改成50行2列的矩阵, 第一列设定为 1\n",
    "\n",
    "X = \n",
    "y = \n",
    "\n",
    "assert y.shape == (50L, 1L), u'50行1列的 y向量'\n",
    "assert X.shape == (50L, 2L), u'50行2列的 X向量'\n",
    "assert X[:, [0]].all() == np.ones(50).reshape(50,1).all(), u'X向量的第1列全为1'\n",
    "# 上一个assert和下一个应该等效\n",
    "np.testing.assert_array_equal(X[:, [0]], np.ones(50).reshape(50,1))"
   ]
  },
  {
   "cell_type": "markdown",
   "metadata": {},
   "source": [
    "请在上一图的基础上， 绘出初始值对应的超平面  $ w\\cdot x + b = 0$\n",
    "\n",
    "绘图需要 x 轴和y轴数据， 函数的x轴数据使用 np.linspace, 范围从-2 到 5， 采样个数50"
   ]
  },
  {
   "cell_type": "code",
   "execution_count": 39,
   "metadata": {
    "collapsed": false
   },
   "outputs": [
    {
     "data": {
      "image/png": "[encoded data removed]",
      "text/plain": [
       "<matplotlib.figure.Figure at 0x8825dd8>"
      ]
     },
     "metadata": {},
     "output_type": "display_data"
    }
   ],
   "source": [
    "# Todo， 练习\n",
    "# 请在上一图的基础上， 绘出初始值对应的超平面  w⋅x+b=0w⋅x+b=0 \n",
    "\n",
    "plt.scatter()\n",
    "\n",
    "# 绘图需要 x 轴和y轴数据, x使用np.linspace 已经给出， 求y\n",
    "line_x = np.linspace(-2, 5, 50)\n",
    "line_y = \n",
    "\n",
    "plt.plot(line_x, line_y)\n",
    "\n",
    "assert len(y) == 50, u'长度不对'"
   ]
  },
  {
   "cell_type": "markdown",
   "metadata": {},
   "source": [
    "### 2. 学习策略\n",
    "\n",
    "即定义（经验）损失函数（成本函数）， 并求其极小值（最小值）\n",
    "\n",
    "$$\\min_{w,b} L(w,b) = -\\sum_{x_i \\in M} y_i(w*x_i + b)$$\n",
    "\n",
    "\n",
    "# 晕了，改时间再写"
   ]
  },
  {
   "cell_type": "code",
   "execution_count": 70,
   "metadata": {
    "collapsed": false
   },
   "outputs": [
    {
     "name": "stdout",
     "output_type": "stream",
     "text": [
      "(5L, 2L)\n",
      "(5L, 1L)\n",
      "[ 1.   1.5  2.   2.5  3. ]\n",
      "[ 22.]\n"
     ]
    },
    {
     "data": {
      "image/png": "[encoded data removed]",
      "text/plain": [
       "<matplotlib.figure.Figure at 0xc195550>"
      ]
     },
     "metadata": {},
     "output_type": "display_data"
    }
   ],
   "source": [
    "# Todo， 练习\n",
    "# 请实现 损失函数， 参数X, y, theta\n",
    "\n",
    "def cost_function(X, y, theta):\n",
    "    print np.dot(X, theta)\n",
    "    return np.dot(y.transpose(), np.dot(X, theta))\n",
    "\n",
    "test_X = np.array([[1, 1], [1,2], [1,3],[1,4],[1,5]])\n",
    "print test_X.shape\n",
    "\n",
    "test_y = np.array([[1], [2], [5],[2],[1]])\n",
    "print test_y.shape\n",
    "\n",
    "test_theta = np.array([0.5, 0.5])\n",
    "\n",
    "plt.scatter(test_X[:,[1]], test_y)\n",
    "plt.plot([0, 5], [0.5, 3])\n",
    "\n",
    "print cost_function(test_X, test_y, test_theta)"
   ]
  },
  {
   "cell_type": "markdown",
   "metadata": {},
   "source": [
    "### 3. 算法\n",
    "\n",
    "#### 算法 1 原始形式\n",
    "\n",
    "1. 选取初值 w, b, 即theta\n",
    "2. 在训练集中选取数据  $ (x_i, y_i)$\n",
    "3. 如果 $ y_i(w\\cdot{x_i} + b) \\leq 0 $ \n",
    "$$ w = w + \\alpha y_i x_i $$\n",
    "$$b = b + \\alpha y_i $$\n",
    "4. 转到 第二步， 直到训练集中没有误分类点\n"
   ]
  },
  {
   "cell_type": "markdown",
   "metadata": {},
   "source": [
    "在此之前， 先给数据加上第0维的1"
   ]
  },
  {
   "cell_type": "code",
   "execution_count": null,
   "metadata": {
    "collapsed": true
   },
   "outputs": [],
   "source": [
    "# 请！\n",
    "data = data"
   ]
  },
  {
   "cell_type": "code",
   "execution_count": null,
   "metadata": {
    "collapsed": false
   },
   "outputs": [],
   "source": [
    "data = np.column_stack( [ np.ones(len(data)) , data])\n",
    "print data[:3]"
   ]
  },
  {
   "cell_type": "code",
   "execution_count": null,
   "metadata": {
    "collapsed": false
   },
   "outputs": [],
   "source": [
    "eta = 2\n",
    "for i in range(len(data)):\n",
    "    if (c[i] - 0.5) * (np.dot(data[i], theta)) <= 0:\n",
    "\n",
    "        theta = theta + eta * (c[i] - 0.5) * data[i]\n",
    "        print theta\n",
    "print theta"
   ]
  },
  {
   "cell_type": "code",
   "execution_count": null,
   "metadata": {
    "collapsed": false
   },
   "outputs": [],
   "source": [
    "plt.scatter(data[:, 1], data[:, 2], c=c)\n",
    "plt.plot(x, - (theta[1] * x  + theta[0])/theta[2])"
   ]
  },
  {
   "cell_type": "code",
   "execution_count": null,
   "metadata": {
    "collapsed": false
   },
   "outputs": [],
   "source": [
    "print data\n",
    "print np.dot(data, theta)"
   ]
  }
 ],
 "metadata": {
  "anaconda-cloud": {},
  "kernelspec": {
   "display_name": "Python [Root]",
   "language": "python",
   "name": "Python [Root]"
  },
  "language_info": {
   "codemirror_mode": {
    "name": "ipython",
    "version": 2
   },
   "file_extension": ".py",
   "mimetype": "text/x-python",
   "name": "python",
   "nbconvert_exporter": "python",
   "pygments_lexer": "ipython2",
   "version": "2.7.12"
  }
 },
 "nbformat": 4,
 "nbformat_minor": 0
}
