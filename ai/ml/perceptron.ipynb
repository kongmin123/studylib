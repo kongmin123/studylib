{
 "cells": [
  {
   "cell_type": "markdown",
   "metadata": {},
   "source": [
    "# 统计学习方法 笔记\n",
    "\n",
    "## ————python 实现及练习 \n",
    "\n",
    "李航的《统计学习方法》一书， 对统计机器学习作了很好的理论概述。\n",
    "\n",
    "全书理论十足， 但没有相应的实践代码， 正好可以来练手。"
   ]
  },
  {
   "cell_type": "markdown",
   "metadata": {},
   "source": [
    "\n",
    "# 第二章 感知器\n",
    "\n",
    "感知器学习算法 简单而易于实现， 分为原始形式和对偶形式， 是 支持向量机、 神经网络的基础\n",
    "\n",
    "特征：\n",
    "\n",
    "1. 二元分类的线性分类器\n",
    "2. 输入为实例的特征向量\n",
    "3. 输出为类别， 取+1 或 -1 值\n",
    "\n",
    "即输入空间中， 将实例划分正负两类的超平面。"
   ]
  },
  {
   "cell_type": "markdown",
   "metadata": {},
   "source": [
    "### 前期准备\n",
    "\n",
    "导入相应包\n",
    "\n",
    "使用 sciki-learn 的数据生成器来生成随机数据"
   ]
  },
  {
   "cell_type": "code",
   "execution_count": 2,
   "metadata": {
    "collapsed": false
   },
   "outputs": [],
   "source": [
    "%matplotlib inline\n",
    "import numpy as np\n",
    "import matplotlib.pyplot as plt\n",
    "from sklearn.linear_model import SGDClassifier\n",
    "import sklearn.datasets as dss"
   ]
  },
  {
   "cell_type": "markdown",
   "metadata": {
    "collapsed": true
   },
   "source": [
    "* 生成随机数据\n",
    "\n",
    "方案： 使用 make_blobs ( [make_blobs](http://scikit-learn.org/stable/modules/generated/sklearn.datasets.make_blobs.html))\n",
    "\n",
    "1. 数据量设定为 n=50\n",
    "2. 只设定两类\n",
    "3. 两类数据划分明确， 不存在混合， 保证数据线性可分"
   ]
  },
  {
   "cell_type": "code",
   "execution_count": null,
   "metadata": {
    "collapsed": true
   },
   "outputs": [],
   "source": [
    "# 练手熟悉、 复习\n",
    "data, data_class = None"
   ]
  },
  {
   "cell_type": "code",
   "execution_count": 4,
   "metadata": {
    "collapsed": true
   },
   "outputs": [],
   "source": [
    "data, c = dss.make_blobs(n_samples=50, centers=2, random_state=0, cluster_std=0.60)"
   ]
  },
  {
   "cell_type": "markdown",
   "metadata": {},
   "source": [
    "* 绘图"
   ]
  },
  {
   "cell_type": "code",
   "execution_count": 206,
   "metadata": {
    "collapsed": false,
    "scrolled": false
   },
   "outputs": [
    {
     "data": {
      "text/plain": [
       "<matplotlib.collections.PathCollection at 0x109c4ff0>"
      ]
     },
     "execution_count": 206,
     "metadata": {},
     "output_type": "execute_result"
    },
    {
     "data": {
      "image/png": "[encoded data removed]",
      "text/plain": [
       "<matplotlib.figure.Figure at 0x104d5570>"
      ]
     },
     "metadata": {},
     "output_type": "display_data"
    }
   ],
   "source": [
    "plt.scatter(data[:, 0], data[:, 1], c=c)"
   ]
  },
  {
   "cell_type": "markdown",
   "metadata": {},
   "source": [
    "## 理论简述\n",
    "\n",
    "### 模型定义：\n",
    "\n",
    "输入空间（特征空间）是 $ X \\subset R^n $\n",
    "\n",
    "输入空间到输出空间的如下函数  $$ f(x) = sign(w \\cdot x + b) $$ 称为感知器\n",
    "\n",
    "其中 w 和 b是感知器的模型参数， w 是权值或权值向量， b 是偏置(bias、 residual)\n",
    "\n",
    "make_blobs 生成的是二维数据， n = 2， 所以 w 是二维向量， 加上第0维的 b， 用 theta 表示为:\n",
    "\n",
    "$ \\theta = (b , w_1 , w_2) $\n",
    "\n",
    "初始化， 令 theta = [0, 0, 0] , 请注意，  ndarray比较方便"
   ]
  },
  {
   "cell_type": "code",
   "execution_count": 1,
   "metadata": {
    "collapsed": true
   },
   "outputs": [],
   "source": [
    "# 请动手\n",
    "\n",
    "theta = None"
   ]
  },
  {
   "cell_type": "code",
   "execution_count": 6,
   "metadata": {
    "collapsed": true
   },
   "outputs": [],
   "source": [
    "theta = np.zeros(3)"
   ]
  },
  {
   "cell_type": "markdown",
   "metadata": {},
   "source": [
    "请在上一图的基础上， 绘出初始值对应的超平面  $ w\\cdot x + b = 0$"
   ]
  },
  {
   "cell_type": "code",
   "execution_count": 1,
   "metadata": {
    "collapsed": true
   },
   "outputs": [],
   "source": [
    "# 请\n",
    "plt.scatter(data[:, 0], data[:, 1], c=c)\n"
   ]
  },
  {
   "cell_type": "code",
   "execution_count": 9,
   "metadata": {
    "collapsed": false
   },
   "outputs": [
    {
     "data": {
      "text/plain": [
       "[<matplotlib.lines.Line2D at 0x7f037afe5b50>]"
      ]
     },
     "execution_count": 9,
     "metadata": {},
     "output_type": "execute_result"
    },
    {
     "data": {
      "image/png": "[encoded data removed]",
      "text/plain": [
       "<matplotlib.figure.Figure at 0x7f037b0a2cd0>"
      ]
     },
     "metadata": {},
     "output_type": "display_data"
    }
   ],
   "source": [
    "plt.scatter(data[:, 0], data[:, 1], c=c)\n",
    "\n",
    "x = np.linspace(-1, 4, 50)\n",
    "\n",
    "plt.plot(x, theta[[1]] * x)"
   ]
  },
  {
   "cell_type": "markdown",
   "metadata": {},
   "source": [
    "### 2. 学习策略\n",
    "\n",
    "即定义（经验）损失函数（成本函数）， 并求其极小值（最小值）\n",
    "\n",
    "#### TODO 待补充\n"
   ]
  },
  {
   "cell_type": "code",
   "execution_count": 203,
   "metadata": {
    "collapsed": false
   },
   "outputs": [
    {
     "name": "stdout",
     "output_type": "stream",
     "text": [
      "[ 1.06269622  5.17635143] -12.6276292373\n"
     ]
    }
   ],
   "source": [
    "def cost_function(X, y, theta):\n",
    "    pass\n",
    "\n"
   ]
  },
  {
   "cell_type": "markdown",
   "metadata": {},
   "source": [
    "### 3. 算法\n",
    "\n",
    "#### 算法 1 原始形式\n",
    "\n",
    "1. 选取初值 w, b, 即theta\n",
    "2. 在训练集中选取数据  $ (x_i, y_i)$\n",
    "3. 如果 $ y_i(w\\cdot{x_i} + b) \\leq 0 $ \n",
    "$$ w = w + \\alpha y_i x_i $$\n",
    "$$b = b + \\alpha y_i $$\n",
    "4. 转到 第二步， 直到训练集中没有误分类点\n"
   ]
  },
  {
   "cell_type": "markdown",
   "metadata": {},
   "source": [
    "在此之前， 先给数据加上第0维的1"
   ]
  },
  {
   "cell_type": "code",
   "execution_count": null,
   "metadata": {
    "collapsed": true
   },
   "outputs": [],
   "source": [
    "# 请！\n",
    "data = data"
   ]
  },
  {
   "cell_type": "code",
   "execution_count": 11,
   "metadata": {
    "collapsed": false
   },
   "outputs": [
    {
     "name": "stdout",
     "output_type": "stream",
     "text": [
      "[[ 1.          1.41281595  1.5303347 ]\n",
      " [ 1.          1.81336135  1.6311307 ]\n",
      " [ 1.          1.43289271  4.37679234]]\n"
     ]
    }
   ],
   "source": [
    "data = np.column_stack( [ np.ones(len(data)) , data])\n",
    "print data[:3]"
   ]
  },
  {
   "cell_type": "code",
   "execution_count": 13,
   "metadata": {
    "collapsed": false
   },
   "outputs": [
    {
     "name": "stdout",
     "output_type": "stream",
     "text": [
      "[ 1.          1.41281595  1.5303347 ]\n",
      "[ 0.         -0.02007677 -2.84645764]\n",
      "[ 1.          2.07510109 -1.76731084]\n",
      "[ 1.          2.07510109 -1.76731084]\n"
     ]
    }
   ],
   "source": [
    "eta = 2\n",
    "for i in range(len(data)):\n",
    "    if (c[i] - 0.5) * (np.dot(data[i], theta)) <= 0:\n",
    "\n",
    "        theta = theta + eta * (c[i] - 0.5) * data[i]\n",
    "        print theta\n",
    "print theta"
   ]
  },
  {
   "cell_type": "code",
   "execution_count": 15,
   "metadata": {
    "collapsed": false
   },
   "outputs": [
    {
     "data": {
      "text/plain": [
       "[<matplotlib.lines.Line2D at 0x7f037b137d90>]"
      ]
     },
     "execution_count": 15,
     "metadata": {},
     "output_type": "execute_result"
    },
    {
     "data": {
      "image/png": "[encoded data removed]",
      "text/plain": [
       "<matplotlib.figure.Figure at 0x7f037af6ab10>"
      ]
     },
     "metadata": {},
     "output_type": "display_data"
    }
   ],
   "source": [
    "plt.scatter(data[:, 1], data[:, 2], c=c)\n",
    "plt.plot(x, - (theta[1] * x  + theta[0])/theta[2])"
   ]
  },
  {
   "cell_type": "code",
   "execution_count": 16,
   "metadata": {
    "collapsed": false
   },
   "outputs": [
    {
     "name": "stdout",
     "output_type": "stream",
     "text": [
      "[[ 1.          1.41281595  1.5303347 ]\n",
      " [ 1.          1.81336135  1.6311307 ]\n",
      " [ 1.          1.43289271  4.37679234]\n",
      " [ 1.          1.87271752  4.18069237]\n",
      " [ 1.          2.09517785  1.0791468 ]\n",
      " [ 1.          2.73890793  0.15676817]\n",
      " [ 1.          3.18515794  0.08900822]\n",
      " [ 1.          2.06156753  1.96918596]\n",
      " [ 1.          2.03835818  1.15466278]\n",
      " [ 1.         -0.04749204  5.47425256]\n",
      " [ 1.          1.71444449  5.02521524]\n",
      " [ 1.          0.22459286  4.77028154]\n",
      " [ 1.          1.06923853  4.53068484]\n",
      " [ 1.          1.53278923  0.55035386]\n",
      " [ 1.          1.4949318   3.85848832]\n",
      " [ 1.          1.1641107   3.79132988]\n",
      " [ 1.          0.74387399  4.12240568]\n",
      " [ 1.          2.29667251  0.48677761]\n",
      " [ 1.          0.44359863  3.11530945]\n",
      " [ 1.          0.91433877  4.55014643]\n",
      " [ 1.          1.67467427  0.68001896]\n",
      " [ 1.          2.26908736  1.32160756]\n",
      " [ 1.          1.5108885   0.9288309 ]\n",
      " [ 1.          1.65179125  0.68193176]\n",
      " [ 1.          2.49272186  0.97505341]\n",
      " [ 1.          2.33812285  3.43116792]\n",
      " [ 1.          0.67047877  4.04094275]\n",
      " [ 1.         -0.55552381  4.69595848]\n",
      " [ 1.          2.16172321  0.6565951 ]\n",
      " [ 1.          2.09680487  3.7174206 ]\n",
      " [ 1.          2.18023251  1.48364708]\n",
      " [ 1.          0.43899014  4.53592883]\n",
      " [ 1.          1.24258802  4.50399192]\n",
      " [ 1.          0.00793137  4.17614316]\n",
      " [ 1.          1.89593761  5.18540259]\n",
      " [ 1.          1.868336    0.93136287]\n",
      " [ 1.          2.13141478  1.13885728]\n",
      " [ 1.          1.06269622  5.17635143]\n",
      " [ 1.          2.33466499 -0.02408255]\n",
      " [ 1.          0.669787    3.59540802]\n",
      " [ 1.          1.07714851  1.17533301]\n",
      " [ 1.          1.54632313  4.212973  ]\n",
      " [ 1.          1.56737975 -0.1381059 ]\n",
      " [ 1.          1.35617762  1.43815955]\n",
      " [ 1.          1.00372519  4.19147702]\n",
      " [ 1.          1.29297652  1.47930168]\n",
      " [ 1.          2.94821884  2.03519717]\n",
      " [ 1.          0.3471383   3.45177657]\n",
      " [ 1.          2.76253526  0.78970876]\n",
      " [ 1.          0.76752279  4.39759671]]\n",
      "[ 1.22715881  1.88019314 -3.76175532 -2.50250478  3.44051801  6.40645275\n",
      "  7.45221951  1.79779734  3.18915124 -8.77325669 -4.32347175 -6.9645174\n",
      " -4.78835039  3.20804626 -2.71701363 -3.28481103 -4.74195853  4.90554028\n",
      " -3.58520816 -5.14417775  3.27331351  3.37289428  2.49371346  3.22244843\n",
      "  4.44942739 -0.21209899 -4.75029071 -8.45198641  4.32538655 -1.21875566\n",
      "  2.90213728 -6.10544727 -4.38145801 -6.36408469 -4.22995603  3.23097838\n",
      "  3.41018631 -5.94301992  5.88722721 -3.96432785  1.15801328 -3.23685606\n",
      "  4.49654749  1.27253068 -4.32481155  1.06867108  3.52102611 -4.38001509\n",
      "  5.33687909 -5.17923297]\n"
     ]
    }
   ],
   "source": [
    "print data\n",
    "print np.dot(data, theta)"
   ]
  }
 ],
 "metadata": {
  "kernelspec": {
   "display_name": "Python 2",
   "language": "python",
   "name": "python2"
  },
  "language_info": {
   "codemirror_mode": {
    "name": "ipython",
    "version": 2
   },
   "file_extension": ".py",
   "mimetype": "text/x-python",
   "name": "python",
   "nbconvert_exporter": "python",
   "pygments_lexer": "ipython2",
   "version": "2.7.6"
  }
 },
 "nbformat": 4,
 "nbformat_minor": 0
}
