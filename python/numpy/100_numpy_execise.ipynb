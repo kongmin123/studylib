{
 "cells": [
  {
   "cell_type": "markdown",
   "metadata": {},
   "source": [
    "# 100 个numpy小练习"
   ]
  },
  {
   "cell_type": "markdown",
   "metadata": {},
   "source": [
    "The goal is both to offer a quick reference for new and old users and to\n",
    "provide also a set of exercices for those who teach. If you remember\n",
    "having asked or answered a (short) problem, you can send a pull request.\n",
    "The format is:\n",
    "\n",
    "本教程的目标是为新手老手提供快速参考及一系列练习题。\n"
   ]
  },
  {
   "cell_type": "raw",
   "metadata": {},
   "source": [
    "#. Find indices of non-zero elements from [1,2,0,0,4,0]\n",
    "\n",
    "   .. code:: python\n",
    "\n",
    "      # Author: Somebody\n",
    "\n",
    "      print np.nonzero([1,2,0,0,4,0])"
   ]
  },
  {
   "cell_type": "markdown",
   "metadata": {},
   "source": [
    "Here is what the page looks like so far:\n",
    "<http://www.loria.fr/~rougier/teaching/numpy.100/index.html>\n"
   ]
  },
  {
   "cell_type": "markdown",
   "metadata": {},
   "source": [
    "## 译者注\n",
    "\n",
    "前面是基础应用， 所以可以练一练， 但后面部分感觉偏 科学计算， 我没怎么遇到这样的问题， 所以也没翻译下来， 另外， 我有一些地方没看懂。"
   ]
  },
  {
   "cell_type": "markdown",
   "metadata": {},
   "source": [
    "# Note\n",
    "\n",
    "这段Note 我就不管了"
   ]
  },
  {
   "cell_type": "markdown",
   "metadata": {},
   "source": [
    "The level names came from an old-game (Dungeon Master)\n"
   ]
  },
  {
   "cell_type": "markdown",
   "metadata": {},
   "source": [
    "Repository is at: <https://github.com/rougier/numpy-100>\n"
   ]
  },
  {
   "cell_type": "markdown",
   "metadata": {},
   "source": [
    "The corresponding [IPython\n",
    "notebook](https://github.com/rougier/numpy-100/blob/master/README.ipynb)\n",
    "is available from the github repo, thanks to the\n",
    "[rst2ipynb](https://github.com/esc/rst2ipynb) conversion tool by\n",
    "[Valentin Haenel](http://haenel.co)\n"
   ]
  },
  {
   "cell_type": "markdown",
   "metadata": {},
   "source": [
    "Thanks to Michiaki Ariga, there is now a [Julia\n",
    "version](https://github.com/chezou/julia-100-exercises).\n"
   ]
  },
  {
   "cell_type": "markdown",
   "metadata": {},
   "source": [
    "## Neophyte 新手"
   ]
  },
  {
   "cell_type": "markdown",
   "metadata": {},
   "source": [
    "Import the numpy package under the name `np`\n",
    "\n",
    "导入numpy包， 命名为np"
   ]
  },
  {
   "cell_type": "code",
   "execution_count": 1,
   "metadata": {
    "collapsed": true
   },
   "outputs": [],
   "source": [
    "import numpy as np\n",
    "from neophyte import *"
   ]
  },
  {
   "cell_type": "markdown",
   "metadata": {},
   "source": [
    "Print the numpy version and the configuration.\n"
   ]
  },
  {
   "cell_type": "code",
   "execution_count": null,
   "metadata": {},
   "outputs": [],
   "source": [
    "print np.__version__"
   ]
  },
  {
   "cell_type": "markdown",
   "metadata": {},
   "source": [
    "请编写相应代码（一般就一行或几行）， 使 assert 通过。\n",
    "\n",
    "练习使用示例：\n",
    "\n",
    "将 [1,2,5,6,90] 转成 np.array"
   ]
  },
  {
   "cell_type": "markdown",
   "metadata": {},
   "source": [
    "练习1 Create a null vector of size 10\n",
    "\n",
    "创建一个 长度为10，每个值都为0的向量 （或长度为任意）， 重点是 零向量、0向量的生成"
   ]
  },
  {
   "cell_type": "code",
   "execution_count": null,
   "metadata": {
    "collapsed": true
   },
   "outputs": [],
   "source": [
    "# 给 your_xxx 赋值\n",
    "your_vector = None\n",
    "\n",
    "assert check1(your_vector), \"0 向量生成出错\"\n",
    "assert isinstance(your_vector, np.ndarray), \"转换 np.array 失败\""
   ]
  },
  {
   "cell_type": "markdown",
   "metadata": {
    "collapsed": true
   },
   "source": []
  },
  {
   "cell_type": "markdown",
   "metadata": {},
   "source": [
    "练习2 Create a null vector of size 10 but the fifth value which is 1\n",
    "\n",
    "生成一个长度为10的0向量， 修改第5个元素的值 = 1。 重点：向量按下标修改、赋值"
   ]
  },
  {
   "cell_type": "code",
   "execution_count": null,
   "metadata": {
    "collapsed": true
   },
   "outputs": [],
   "source": [
    "your_vector = None\n",
    "\n",
    "assert check2(your_vector), \"向量下标修改出错\""
   ]
  },
  {
   "cell_type": "markdown",
   "metadata": {},
   "source": [
    "练习3. Create a vector with values ranging from 10 to 49\n",
    "\n",
    "创建从 10到49的向量， 重点是区间范围， 如 range()"
   ]
  },
  {
   "cell_type": "code",
   "execution_count": null,
   "metadata": {
    "collapsed": true
   },
   "outputs": [],
   "source": [
    "your_vector = None\n",
    "assert check3(your_vector), \"生成某区间向量出错\""
   ]
  },
  {
   "cell_type": "markdown",
   "metadata": {},
   "source": [
    "练习4. Create a 3x3 matrix with values ranging from 0 to 8\n",
    "\n",
    "创建3x3矩阵， 值从0到8。 重点是array的变形， 数组、矩阵的size变换"
   ]
  },
  {
   "cell_type": "code",
   "execution_count": null,
   "metadata": {
    "collapsed": true
   },
   "outputs": [],
   "source": [
    "your_vector = None\n",
    "assert check4(your_vector), \"某区间向量转换成指定行列矩阵出错\""
   ]
  },
  {
   "cell_type": "markdown",
   "metadata": {},
   "source": [
    "练习5. Find indices of non-zero elements from [1,2,0,0,4,0]\n",
    "\n",
    "查找 [1,2,0,0,4,0] 里的非零元素，并返回下标。\n",
    "\n",
    "重点： numpy 里 非零 非0 函数"
   ]
  },
  {
   "cell_type": "code",
   "execution_count": null,
   "metadata": {
    "collapsed": true
   },
   "outputs": [],
   "source": [
    "test_case = [1,2,0,0,4,0]\n",
    "your_vector = None\n",
    "assert check5(your_vector, test_case), \"向量非0元素索引出错\""
   ]
  },
  {
   "cell_type": "markdown",
   "metadata": {},
   "source": [
    "练习6. Create a 3x3 identity matrix\n",
    "\n",
    "生成单位矩阵的方法"
   ]
  },
  {
   "cell_type": "code",
   "execution_count": null,
   "metadata": {
    "collapsed": true
   },
   "outputs": [],
   "source": [
    "your_matrix = None\n",
    "assert check6(your_vector), \"生成单位矩阵出错\""
   ]
  },
  {
   "cell_type": "markdown",
   "metadata": {},
   "source": [
    "练习7. Create a 5x5 matrix with values 1,2,3,4 just below the diagonal\n",
    "\n",
    "对角矩阵 ， 对角线下"
   ]
  },
  {
   "cell_type": "code",
   "execution_count": null,
   "metadata": {
    "collapsed": true
   },
   "outputs": [],
   "source": [
    "your_matrix = None\n",
    "assert check7(your_matrix), \"对角矩阵变换出错\""
   ]
  },
  {
   "cell_type": "markdown",
   "metadata": {},
   "source": [
    "练习8. Create a 3x3x3 array with random values\n",
    "\n",
    "多维array, 随机数值。 随机初始化"
   ]
  },
  {
   "cell_type": "code",
   "execution_count": null,
   "metadata": {
    "collapsed": true
   },
   "outputs": [],
   "source": [
    "np.random.seed(2)\n",
    "dim = (3, 3, 3)\n",
    "your_array = None\n",
    "assert check8(your_array, dim), \"生成指定维度 随机数值 array 出错\""
   ]
  },
  {
   "cell_type": "markdown",
   "metadata": {},
   "source": [
    "下面可以对比代码"
   ]
  },
  {
   "cell_type": "code",
   "execution_count": null,
   "metadata": {
    "collapsed": true
   },
   "outputs": [],
   "source": [
    "%load neophyte.py"
   ]
  },
  {
   "cell_type": "markdown",
   "metadata": {},
   "source": [
    "## Novice 新手2"
   ]
  },
  {
   "cell_type": "code",
   "execution_count": null,
   "metadata": {},
   "outputs": [],
   "source": [
    "from novice import *"
   ]
  },
  {
   "cell_type": "markdown",
   "metadata": {},
   "source": [
    "2.1 Create a 8x8 matrix and fill it with a checkerboard pattern\n",
    "\n",
    "创建8x8矩阵， 赋值模式：\n",
    "\n",
    "[[0 1 0 1 0 1 0 1]  \n",
    " [1 0 1 0 1 0 1 0]  \n",
    " [0 1 0 1 0 1 0 1]  \n",
    " [1 0 1 0 1 0 1 0]  \n",
    " [0 1 0 1 0 1 0 1]  \n",
    " [1 0 1 0 1 0 1 0]  \n",
    " [0 1 0 1 0 1 0 1]  \n",
    " [1 0 1 0 1 0 1 0]]\n",
    "\n",
    "重点， array 下标 步调， 批量赋值"
   ]
  },
  {
   "cell_type": "code",
   "execution_count": null,
   "metadata": {
    "collapsed": true
   },
   "outputs": [],
   "source": [
    "your_matrix = None\n",
    "assert check1(your_matrix), \"checkerboard模板失败\""
   ]
  },
  {
   "cell_type": "markdown",
   "metadata": {},
   "source": [
    "2.2 Create a 10x10 array with random values and find the minimum and maximum\n",
    "values\n",
    "\n",
    "10x10 随机矩阵中的最大最小值\n"
   ]
  },
  {
   "cell_type": "code",
   "execution_count": null,
   "metadata": {
    "collapsed": true
   },
   "outputs": [],
   "source": [
    "np.random.seed(25)\n",
    "your_vector = None\n",
    "ymin, ymax = 0, 0\n",
    "assert check2(ymin, ymax), \"最值检查\""
   ]
  },
  {
   "cell_type": "markdown",
   "metadata": {},
   "source": [
    "2.3 Create a checkerboard 8x8 matrix using the tile function\n",
    "\n",
    "使用 tile 函数实现 2.1 的矩阵。\n"
   ]
  },
  {
   "cell_type": "code",
   "execution_count": null,
   "metadata": {
    "collapsed": true
   },
   "outputs": [],
   "source": [
    "your_matrix = None\n",
    "assert check3(your_matrix), \"checkerboard模板失败\""
   ]
  },
  {
   "cell_type": "markdown",
   "metadata": {},
   "source": [
    "2.4 Normalize a 5x5 random matrix (between 0 and 1)\n",
    "\n",
    "对5x5随机矩阵进行归一化"
   ]
  },
  {
   "cell_type": "code",
   "execution_count": null,
   "metadata": {
    "collapsed": true
   },
   "outputs": [],
   "source": [
    "np.random.seed(30)\n",
    "Z = np.random.random((5,5))\n",
    "your_matrix = None\n",
    "assert check4(your_matrix), \"矩阵归一化失败\""
   ]
  },
  {
   "cell_type": "markdown",
   "metadata": {},
   "source": [
    "2.5 Multiply a 5x3 matrix by a 3x2 matrix (real matrix product)\n",
    "\n",
    "数组、矩阵相乘， 矩阵乘法， 非对位相乘"
   ]
  },
  {
   "cell_type": "code",
   "execution_count": null,
   "metadata": {
    "collapsed": true
   },
   "outputs": [],
   "source": [
    "x = np.ones((5,3))\n",
    "y = np.ones((3,2))\n",
    "your_matrix = None\n",
    "assert check5(your_matrix), \"矩阵相乘错误\""
   ]
  },
  {
   "cell_type": "markdown",
   "metadata": {},
   "source": [
    "2.6 Create a 5x5 matrix with row values ranging from 0 to 4\n",
    "\n",
    "创建矩阵， 每行都是 0到4， 不知道这个重点是什么。\n",
    "\n",
    "矩阵matrix和数组（向量vector）相加的结果"
   ]
  },
  {
   "cell_type": "code",
   "execution_count": 3,
   "metadata": {},
   "outputs": [
    {
     "name": "stdout",
     "output_type": "stream",
     "text": [
      "[[ 0.  1.  2.  3.  4.]\n",
      " [ 0.  1.  2.  3.  4.]\n",
      " [ 0.  1.  2.  3.  4.]\n",
      " [ 0.  1.  2.  3.  4.]\n",
      " [ 0.  1.  2.  3.  4.]]\n",
      "[0 1 2 3 4]\n"
     ]
    }
   ],
   "source": [
    "Z = None\n",
    "assert check6(Z), \"错误\""
   ]
  },
  {
   "cell_type": "markdown",
   "metadata": {},
   "source": [
    "2.7 Create a vector of size 10 with values ranging from 0 to 1, both\n",
    "excluded\n",
    "\n",
    "创建向量， 平均分， 值范围0到1，但不含0与1.\n",
    "\n",
    "重点 线性空间 方法 line space"
   ]
  },
  {
   "cell_type": "code",
   "execution_count": null,
   "metadata": {
    "collapsed": true
   },
   "outputs": [],
   "source": [
    "Z = None\n",
    "assert check7(Z), \"矩阵错误\""
   ]
  },
  {
   "cell_type": "markdown",
   "metadata": {},
   "source": [
    "2.8 Create a random vector of size 10 and sort it\n",
    "\n",
    "创建长度为10的向量， 并排序"
   ]
  },
  {
   "cell_type": "code",
   "execution_count": null,
   "metadata": {
    "collapsed": true
   },
   "outputs": [],
   "source": [
    "np.random.seed(30)\n",
    "Z = None\n",
    "assert check8(Z), \"矩阵错误\""
   ]
  },
  {
   "cell_type": "markdown",
   "metadata": {},
   "source": [
    "2.9 Consider two random array A anb B, check if they are equal.\n",
    "\n",
    "判断浮点数数组、矩阵、向量的相近， 是否相等"
   ]
  },
  {
   "cell_type": "code",
   "execution_count": 4,
   "metadata": {},
   "outputs": [
    {
     "ename": "NameError",
     "evalue": "name 'check9' is not defined",
     "output_type": "error",
     "traceback": [
      "\u001b[1;31m\u001b[0m",
      "\u001b[1;31mNameError\u001b[0mTraceback (most recent call last)",
      "\u001b[1;32m<ipython-input-4-a48e828cbe69>\u001b[0m in \u001b[0;36m<module>\u001b[1;34m()\u001b[0m\n\u001b[0;32m      2\u001b[0m \u001b[0mB\u001b[0m \u001b[1;33m=\u001b[0m \u001b[0mnp\u001b[0m\u001b[1;33m.\u001b[0m\u001b[0mrandom\u001b[0m\u001b[1;33m.\u001b[0m\u001b[0mrandint\u001b[0m\u001b[1;33m(\u001b[0m\u001b[1;36m0\u001b[0m\u001b[1;33m,\u001b[0m\u001b[1;36m2\u001b[0m\u001b[1;33m,\u001b[0m\u001b[1;36m5\u001b[0m\u001b[1;33m)\u001b[0m\u001b[1;33m\u001b[0m\u001b[0m\n\u001b[0;32m      3\u001b[0m \u001b[0mequal\u001b[0m \u001b[1;33m=\u001b[0m \u001b[0mNone\u001b[0m\u001b[1;33m\u001b[0m\u001b[0m\n\u001b[1;32m----> 4\u001b[1;33m \u001b[1;32massert\u001b[0m \u001b[0mcheck9\u001b[0m\u001b[1;33m(\u001b[0m\u001b[0mequal\u001b[0m\u001b[1;33m,\u001b[0m \u001b[0mA\u001b[0m\u001b[1;33m,\u001b[0m \u001b[0mB\u001b[0m\u001b[1;33m)\u001b[0m\u001b[1;33m,\u001b[0m \u001b[1;34m\"错误\"\u001b[0m\u001b[1;33m\u001b[0m\u001b[0m\n\u001b[0m",
      "\u001b[1;31mNameError\u001b[0m: name 'check9' is not defined"
     ]
    }
   ],
   "source": [
    "A = np.random.randint(0,2,5)\n",
    "B = np.random.randint(0,2,5)\n",
    "equal = None\n",
    "assert check9(equal, A, B), \"错误\""
   ]
  },
  {
   "cell_type": "markdown",
   "metadata": {},
   "source": [
    "2.10 Create a random vector of size 30 and find the mean value\n",
    "\n",
    "平均值 方法"
   ]
  },
  {
   "cell_type": "code",
   "execution_count": null,
   "metadata": {
    "collapsed": true
   },
   "outputs": [],
   "source": [
    "Z = np.random.random(30)\n",
    "m = None\n",
    "assert check9(Z, m), \"错误\""
   ]
  },
  {
   "cell_type": "code",
   "execution_count": null,
   "metadata": {},
   "outputs": [],
   "source": [
    "%load novice.py"
   ]
  },
  {
   "cell_type": "markdown",
   "metadata": {},
   "source": [
    "## Apprentice 新手3"
   ]
  },
  {
   "cell_type": "code",
   "execution_count": null,
   "metadata": {
    "collapsed": true
   },
   "outputs": [],
   "source": [
    "from apprentice import *"
   ]
  },
  {
   "cell_type": "markdown",
   "metadata": {},
   "source": [
    "3.1 Make an array immutable (read-only)\n",
    "\n",
    "使 数组、矩阵 不可改"
   ]
  },
  {
   "cell_type": "code",
   "execution_count": null,
   "metadata": {
    "collapsed": true
   },
   "outputs": [],
   "source": [
    "Z = None\n",
    "assert check1(Z), \"错误\""
   ]
  },
  {
   "cell_type": "markdown",
   "metadata": {},
   "source": [
    "3.2 Consider a random 10x2 matrix representing cartesian coordinates,\n",
    "convert them to polar coordinates\n",
    "\n",
    "创建 笛卡儿坐标数据 10x2 , 转成 极坐标"
   ]
  },
  {
   "cell_type": "code",
   "execution_count": null,
   "metadata": {
    "collapsed": true
   },
   "outputs": [],
   "source": [
    "Z = np.random.random((10,2))\n",
    "R = None\n",
    "T = None\n",
    "assert check2(Z, R, T), \"错误\""
   ]
  },
  {
   "cell_type": "markdown",
   "metadata": {},
   "source": [
    "3.3 Create random vector of size 10 and replace the maximum value by 0\n",
    "\n",
    "寻找最大值 及 坐标， 同理 最小值、 平均值等"
   ]
  },
  {
   "cell_type": "code",
   "execution_count": null,
   "metadata": {
    "collapsed": true
   },
   "outputs": [],
   "source": [
    "Z = np.random.random(10)\n",
    "Z[Z.argmax()] = 0\n",
    "print Z"
   ]
  },
  {
   "cell_type": "markdown",
   "metadata": {},
   "source": [
    "3.4 Create a structured array with `x` and `y` coordinates covering the\n",
    "[0,1]x[0,1] area.\n",
    "\n",
    "看不懂， 结构数组 x,y坐标， 覆盖 什么鬼"
   ]
  },
  {
   "cell_type": "code",
   "execution_count": 5,
   "metadata": {},
   "outputs": [
    {
     "name": "stdout",
     "output_type": "stream",
     "text": [
      "[[( 0.        ,  0.        ) ( 0.11111111,  0.        )\n",
      "  ( 0.22222222,  0.        ) ( 0.33333333,  0.        )\n",
      "  ( 0.44444444,  0.        ) ( 0.55555556,  0.        )\n",
      "  ( 0.66666667,  0.        ) ( 0.77777778,  0.        )\n",
      "  ( 0.88888889,  0.        ) ( 1.        ,  0.        )]\n",
      " [( 0.        ,  0.11111111) ( 0.11111111,  0.11111111)\n",
      "  ( 0.22222222,  0.11111111) ( 0.33333333,  0.11111111)\n",
      "  ( 0.44444444,  0.11111111) ( 0.55555556,  0.11111111)\n",
      "  ( 0.66666667,  0.11111111) ( 0.77777778,  0.11111111)\n",
      "  ( 0.88888889,  0.11111111) ( 1.        ,  0.11111111)]\n",
      " [( 0.        ,  0.22222222) ( 0.11111111,  0.22222222)\n",
      "  ( 0.22222222,  0.22222222) ( 0.33333333,  0.22222222)\n",
      "  ( 0.44444444,  0.22222222) ( 0.55555556,  0.22222222)\n",
      "  ( 0.66666667,  0.22222222) ( 0.77777778,  0.22222222)\n",
      "  ( 0.88888889,  0.22222222) ( 1.        ,  0.22222222)]\n",
      " [( 0.        ,  0.33333333) ( 0.11111111,  0.33333333)\n",
      "  ( 0.22222222,  0.33333333) ( 0.33333333,  0.33333333)\n",
      "  ( 0.44444444,  0.33333333) ( 0.55555556,  0.33333333)\n",
      "  ( 0.66666667,  0.33333333) ( 0.77777778,  0.33333333)\n",
      "  ( 0.88888889,  0.33333333) ( 1.        ,  0.33333333)]\n",
      " [( 0.        ,  0.44444444) ( 0.11111111,  0.44444444)\n",
      "  ( 0.22222222,  0.44444444) ( 0.33333333,  0.44444444)\n",
      "  ( 0.44444444,  0.44444444) ( 0.55555556,  0.44444444)\n",
      "  ( 0.66666667,  0.44444444) ( 0.77777778,  0.44444444)\n",
      "  ( 0.88888889,  0.44444444) ( 1.        ,  0.44444444)]\n",
      " [( 0.        ,  0.55555556) ( 0.11111111,  0.55555556)\n",
      "  ( 0.22222222,  0.55555556) ( 0.33333333,  0.55555556)\n",
      "  ( 0.44444444,  0.55555556) ( 0.55555556,  0.55555556)\n",
      "  ( 0.66666667,  0.55555556) ( 0.77777778,  0.55555556)\n",
      "  ( 0.88888889,  0.55555556) ( 1.        ,  0.55555556)]\n",
      " [( 0.        ,  0.66666667) ( 0.11111111,  0.66666667)\n",
      "  ( 0.22222222,  0.66666667) ( 0.33333333,  0.66666667)\n",
      "  ( 0.44444444,  0.66666667) ( 0.55555556,  0.66666667)\n",
      "  ( 0.66666667,  0.66666667) ( 0.77777778,  0.66666667)\n",
      "  ( 0.88888889,  0.66666667) ( 1.        ,  0.66666667)]\n",
      " [( 0.        ,  0.77777778) ( 0.11111111,  0.77777778)\n",
      "  ( 0.22222222,  0.77777778) ( 0.33333333,  0.77777778)\n",
      "  ( 0.44444444,  0.77777778) ( 0.55555556,  0.77777778)\n",
      "  ( 0.66666667,  0.77777778) ( 0.77777778,  0.77777778)\n",
      "  ( 0.88888889,  0.77777778) ( 1.        ,  0.77777778)]\n",
      " [( 0.        ,  0.88888889) ( 0.11111111,  0.88888889)\n",
      "  ( 0.22222222,  0.88888889) ( 0.33333333,  0.88888889)\n",
      "  ( 0.44444444,  0.88888889) ( 0.55555556,  0.88888889)\n",
      "  ( 0.66666667,  0.88888889) ( 0.77777778,  0.88888889)\n",
      "  ( 0.88888889,  0.88888889) ( 1.        ,  0.88888889)]\n",
      " [( 0.        ,  1.        ) ( 0.11111111,  1.        )\n",
      "  ( 0.22222222,  1.        ) ( 0.33333333,  1.        )\n",
      "  ( 0.44444444,  1.        ) ( 0.55555556,  1.        )\n",
      "  ( 0.66666667,  1.        ) ( 0.77777778,  1.        )\n",
      "  ( 0.88888889,  1.        ) ( 1.        ,  1.        )]]\n"
     ]
    }
   ],
   "source": [
    "Z = np.zeros((10,10), [('x',float),('y',float)])\n",
    "Z['x'], Z['y'] = np.meshgrid(np.linspace(0,1,10),\n",
    "                             np.linspace(0,1,10))\n",
    "print Z"
   ]
  },
  {
   "cell_type": "markdown",
   "metadata": {},
   "source": [
    "3.5 Print the minimum and maximum representable value for each numpy scalar type\n",
    "\n",
    "最大可表示值"
   ]
  },
  {
   "cell_type": "code",
   "execution_count": null,
   "metadata": {
    "collapsed": true
   },
   "outputs": [],
   "source": [
    "for dtype in [np.int8, np.int32, np.int64]:\n",
    "   print np.iinfo(dtype).min\n",
    "   print np.iinfo(dtype).max\n",
    "for dtype in [np.float32, np.float64]:\n",
    "   print np.finfo(dtype).min\n",
    "   print np.finfo(dtype).max\n",
    "   print np.finfo(dtype).eps"
   ]
  },
  {
   "cell_type": "markdown",
   "metadata": {},
   "source": [
    "Create a structured array representing a position (x,y) and a color\n",
    "(r,g,b)\n"
   ]
  },
  {
   "cell_type": "code",
   "execution_count": null,
   "metadata": {
    "collapsed": true
   },
   "outputs": [],
   "source": [
    " Z = np.zeros(10, [ ('position', [ ('x', float, 1),\n",
    "                                   ('y', float, 1)]),\n",
    "                    ('color',    [ ('r', float, 1),\n",
    "                                   ('g', float, 1),\n",
    "                                   ('b', float, 1)])])\n",
    "print Z"
   ]
  },
  {
   "cell_type": "markdown",
   "metadata": {},
   "source": [
    "3.6 Consider a random vector with shape (100,2) representing coordinates,\n",
    "find point by point distances\n",
    "\n",
    "100个平面点间的距离计算， scipy 科学计算的接口"
   ]
  },
  {
   "cell_type": "code",
   "execution_count": null,
   "metadata": {
    "collapsed": true
   },
   "outputs": [],
   "source": [
    "Z = np.random.random((10,2))\n",
    "X,Y = np.atleast_2d(Z[:,0]), np.atleast_2d(Z[:,1])\n",
    "D = np.sqrt( (X-X.T)**2 + (Y-Y.T)**2)\n",
    "print D\n",
    "\n",
    "# Much faster with scipy\n",
    "import scipy.spatial\n",
    "Z = np.random.random((10,2))\n",
    "D = scipy.spatial.distance.cdist(Z,Z)\n",
    "print D"
   ]
  },
  {
   "cell_type": "markdown",
   "metadata": {},
   "source": [
    "3.7 Generate a generic 2D Gaussian-like array\n",
    "\n",
    "2维高斯数组"
   ]
  },
  {
   "cell_type": "code",
   "execution_count": null,
   "metadata": {
    "collapsed": true
   },
   "outputs": [],
   "source": [
    "X, Y = np.meshgrid(np.linspace(-1,1,10), np.linspace(-1,1,10))\n",
    "D = np.sqrt(X*X+Y*Y)\n",
    "sigma, mu = 1.0, 0.0\n",
    "G = np.exp(-( (D-mu)**2 / ( 2.0 * sigma**2 ) ) )\n",
    "print G"
   ]
  },
  {
   "cell_type": "markdown",
   "metadata": {},
   "source": [
    "3.8 How to tell if a given 2D array has null columns ?\n",
    "\n",
    "两维数组 是否存在 null列，空列， 那空行呢？"
   ]
  },
  {
   "cell_type": "code",
   "execution_count": null,
   "metadata": {
    "collapsed": true
   },
   "outputs": [],
   "source": [
    "# Author: Warren Weckesser\n",
    "\n",
    "Z = np.random.randint(0,3,(3,10))\n",
    "print (~Z.any(axis=0)).any()"
   ]
  },
  {
   "cell_type": "markdown",
   "metadata": {},
   "source": [
    "3.9 Find the nearest value from a given value in an array\n",
    "\n",
    "寻找 数组（向量）中 与给定值最接近， flat 接口"
   ]
  },
  {
   "cell_type": "code",
   "execution_count": null,
   "metadata": {
    "collapsed": true
   },
   "outputs": [],
   "source": [
    "Z = np.random.uniform(0,1,10)\n",
    "z = 0.5\n",
    "m = Z.flat[np.abs(Z - z).argmin()]\n",
    "print m"
   ]
  },
  {
   "cell_type": "markdown",
   "metadata": {},
   "source": [
    "## Journeyman"
   ]
  },
  {
   "cell_type": "markdown",
   "metadata": {},
   "source": [
    "Consider the following file:\n"
   ]
  },
  {
   "cell_type": "raw",
   "metadata": {},
   "source": [
    "1,2,3,4,5\n",
    "6,,,7,8\n",
    ",,9,10,11"
   ]
  },
  {
   "cell_type": "markdown",
   "metadata": {},
   "source": [
    "How to read it ?\n",
    "\n",
    "numpy 读取 csv、矩阵 文件"
   ]
  },
  {
   "cell_type": "code",
   "execution_count": null,
   "metadata": {
    "collapsed": true
   },
   "outputs": [],
   "source": [
    "Z = np.genfromtxt(\"missing.dat\", delimiter=\",\")"
   ]
  },
  {
   "cell_type": "markdown",
   "metadata": {},
   "source": [
    "Consider a generator function that generates 10 integers and use it to\n",
    "build an array\n",
    "\n",
    "用生成器来创建数组"
   ]
  },
  {
   "cell_type": "code",
   "execution_count": null,
   "metadata": {
    "collapsed": true
   },
   "outputs": [],
   "source": [
    "def generate():\n",
    "    for x in xrange(10):\n",
    "        yield x\n",
    "Z = np.fromiter(generate(),dtype=float,count=-1)\n",
    "print Z"
   ]
  },
  {
   "cell_type": "markdown",
   "metadata": {},
   "source": [
    "Consider a given vector, how to add 1 to each element indexed by a\n",
    "second vector (be careful with repeated indices) ?\n",
    "\n",
    "给定一个向量， 用另一个向量作为下标， 给相应下标的该向量 +1 加一"
   ]
  },
  {
   "cell_type": "code",
   "execution_count": null,
   "metadata": {
    "collapsed": true
   },
   "outputs": [],
   "source": [
    "# Author: Brett Olsen\n",
    "\n",
    "Z = np.ones(10)\n",
    "I = np.random.randint(0,len(Z),20)\n",
    "Z += np.bincount(I, minlength=len(Z))\n",
    "print Z"
   ]
  },
  {
   "cell_type": "markdown",
   "metadata": {},
   "source": [
    "How to accumulate elements of a vector (X) to an array (F) based on an\n",
    "index list (I) ?\n",
    "\n",
    "看不懂"
   ]
  },
  {
   "cell_type": "code",
   "execution_count": 6,
   "metadata": {},
   "outputs": [
    {
     "name": "stdout",
     "output_type": "stream",
     "text": [
      "[ 0.  7.  0.  6.  5.  0.  0.  0.  0.  3.]\n"
     ]
    }
   ],
   "source": [
    "# Author: Alan G Isaac\n",
    "\n",
    "X = [1,2,3,4,5,6]\n",
    "I = [1,3,9,3,4,1]\n",
    "F = np.bincount(I,X)\n",
    "print F"
   ]
  },
  {
   "cell_type": "markdown",
   "metadata": {},
   "source": [
    "Considering a (w,h,3) image of (dtype=ubyte), compute the number of\n",
    "unique colors\n",
    "\n",
    "寻找 特殊（独一） unique\n"
   ]
  },
  {
   "cell_type": "code",
   "execution_count": null,
   "metadata": {
    "collapsed": true
   },
   "outputs": [],
   "source": [
    "# Author: Nadav Horesh\n",
    "\n",
    "w,h = 16,16\n",
    "I = np.random.randint(0,2,(h,w,3)).astype(np.ubyte)\n",
    "F = I[...,0]*256*256 + I[...,1]*256 +I[...,2]\n",
    "n = len(np.unique(F))\n",
    "print np.unique(I)"
   ]
  },
  {
   "cell_type": "markdown",
   "metadata": {},
   "source": [
    "Considering a four dimensions array, how to get sum over the last two\n",
    "axis at once ?\n",
    "\n",
    "四维数组， 如何一次对后两维？axis 求和。"
   ]
  },
  {
   "cell_type": "code",
   "execution_count": null,
   "metadata": {
    "collapsed": true
   },
   "outputs": [],
   "source": [
    "A = np.random.randint(0,10,(3,4,3,4))\n",
    "sum = A.reshape(A.shape[:-2] + (-1,)).sum(axis=-1)\n",
    "print"
   ]
  },
  {
   "cell_type": "markdown",
   "metadata": {},
   "source": [
    "Considering a one-dimensional vector D, how to compute means of subsets\n",
    "of D using a vector S of same size describing subset indices ?\n"
   ]
  },
  {
   "cell_type": "code",
   "execution_count": null,
   "metadata": {
    "collapsed": true
   },
   "outputs": [],
   "source": [
    "# Author: Jaime Fernández del Río\n",
    "\n",
    "D = np.random.uniform(0,1,100)\n",
    "S = np.random.randint(0,10,100)\n",
    "D_sums = np.bincount(S, weights=D)\n",
    "D_counts = np.bincount(S)\n",
    "D_means = D_sums / D_counts\n",
    "print D_means"
   ]
  },
  {
   "cell_type": "markdown",
   "metadata": {},
   "source": [
    "Consider the vector [1, 2, 3, 4, 5], how to build a new vector with 3\n",
    "consecutive zeros interleaved between each value ?\n",
    "\n",
    "在向量所有值之间插入"
   ]
  },
  {
   "cell_type": "code",
   "execution_count": null,
   "metadata": {
    "collapsed": true
   },
   "outputs": [],
   "source": [
    "# Author: Warren Weckesser\n",
    "\n",
    "Z = np.array([1,2,3,4,5])\n",
    "nz = 3\n",
    "Z0 = np.zeros(len(Z) + (len(Z)-1)*(nz))\n",
    "Z0[::nz+1] = Z\n",
    "print Z0"
   ]
  },
  {
   "cell_type": "markdown",
   "metadata": {},
   "source": [
    "Consider an array of dimension (5,5,3), how to mulitply it by an array\n",
    "with dimensions (5,5) ?\n",
    "\n",
    "5x5x3维数组， 与 5x5组数组 相乘， 高维与低维相乘， 像卷积神经网络里的？"
   ]
  },
  {
   "cell_type": "code",
   "execution_count": null,
   "metadata": {
    "collapsed": true
   },
   "outputs": [],
   "source": [
    "A = np.ones((5,5,3))\n",
    "B = 2*np.ones((5,5))\n",
    "print A * B[:,:,None]"
   ]
  },
  {
   "cell_type": "markdown",
   "metadata": {},
   "source": [
    "How to swap two rows of an array ?\n"
   ]
  },
  {
   "cell_type": "code",
   "execution_count": null,
   "metadata": {
    "collapsed": true
   },
   "outputs": [],
   "source": [
    "# Author: Eelco Hoogendoorn\n",
    "\n",
    "A = np.arange(25).reshape(5,5)\n",
    "A[[0,1]] = A[[1,0]]\n",
    "print A"
   ]
  },
  {
   "cell_type": "markdown",
   "metadata": {},
   "source": [
    "## Craftsman"
   ]
  },
  {
   "cell_type": "markdown",
   "metadata": {},
   "source": [
    "Consider a one-dimensional array Z, build a two-dimensional array whose\n",
    "first row is (Z[0],Z[1],Z[2]) and each subsequent row is shifted by 1\n",
    "(last row should be (Z[-3],Z[-2],Z[-1])\n"
   ]
  },
  {
   "cell_type": "code",
   "execution_count": null,
   "metadata": {
    "collapsed": true
   },
   "outputs": [],
   "source": [
    "# Author: Joe Kington / Erik Rigtorp\n",
    "from numpy.lib import stride_tricks\n",
    "\n",
    "def rolling(a, window):\n",
    "    shape = (a.size - window + 1, window)\n",
    "    strides = (a.itemsize, a.itemsize)\n",
    "    return stride_tricks.as_strided(a, shape=shape, strides=strides)\n",
    "Z = rolling(np.arange(10), 3)\n",
    "print Z"
   ]
  },
  {
   "cell_type": "markdown",
   "metadata": {},
   "source": [
    "Consider a set of 10 triplets describing 10 triangles (with shared\n",
    "vertices), find the set of unique line segments composing all the\n",
    "triangles.\n"
   ]
  },
  {
   "cell_type": "code",
   "execution_count": null,
   "metadata": {
    "collapsed": true
   },
   "outputs": [],
   "source": [
    "# Author: Nicolas P. Rougier\n",
    "\n",
    "faces = np.random.randint(0,100,(10,3))\n",
    "F = np.roll(faces.repeat(2,axis=1),-1,axis=1)\n",
    "F = F.reshape(len(F)*3,2)\n",
    "F = np.sort(F,axis=1)\n",
    "G = F.view( dtype=[('p0',F.dtype),('p1',F.dtype)] )\n",
    "G = np.unique(G)\n",
    "print G"
   ]
  },
  {
   "cell_type": "markdown",
   "metadata": {},
   "source": [
    "Given an array C that is a bincount, how to produce an array A such that\n",
    "np.bincount(A) == C ?\n"
   ]
  },
  {
   "cell_type": "code",
   "execution_count": null,
   "metadata": {
    "collapsed": true
   },
   "outputs": [],
   "source": [
    "# Author: Jaime Fernández del Río\n",
    "\n",
    "C = np.bincount([1,1,2,3,4,4,6])\n",
    "A = np.repeat(np.arange(len(C)), C)\n",
    "print A"
   ]
  },
  {
   "cell_type": "markdown",
   "metadata": {},
   "source": [
    "How to compute averages using a sliding window over an array ?\n",
    "\n",
    "如何使用 滑动窗口计算平均值"
   ]
  },
  {
   "cell_type": "code",
   "execution_count": null,
   "metadata": {
    "collapsed": true
   },
   "outputs": [],
   "source": [
    "# Author: Jaime Fernández del Río\n",
    "\n",
    "def moving_average(a, n=3) :\n",
    "    ret = np.cumsum(a, dtype=float)\n",
    "    ret[n:] = ret[n:] - ret[:-n]\n",
    "    return ret[n - 1:] / n\n",
    "Z = np.arange(20)\n",
    "print moving_average(Z, n=3)"
   ]
  },
  {
   "cell_type": "markdown",
   "metadata": {},
   "source": [
    "## Artisan"
   ]
  },
  {
   "cell_type": "markdown",
   "metadata": {},
   "source": [
    "Considering a 10x3 matrix, extract rows with unequal values (e.g.\n",
    "[2,2,3])\n"
   ]
  },
  {
   "cell_type": "code",
   "execution_count": null,
   "metadata": {
    "collapsed": true
   },
   "outputs": [],
   "source": [
    "# Author: Robert Kern\n",
    "\n",
    "Z = np.random.randint(0,5,(10,3))\n",
    "E = np.logical_and.reduce(Z[:,1:] == Z[:,:-1], axis=1)\n",
    "U = Z[~E]\n",
    "print Z\n",
    "print U"
   ]
  },
  {
   "cell_type": "markdown",
   "metadata": {},
   "source": [
    "Convert a vector of ints into a matrix binary representation.\n"
   ]
  },
  {
   "cell_type": "code",
   "execution_count": null,
   "metadata": {
    "collapsed": true
   },
   "outputs": [],
   "source": [
    "# Author: Warren Weckesser\n",
    "\n",
    "I = np.array([0, 1, 2, 3, 15, 16, 32, 64, 128])\n",
    "B = ((I.reshape(-1,1) & (2**np.arange(8))) != 0).astype(int)\n",
    "print B[:,::-1]\n",
    "\n",
    "# Author: Daniel T. McDonald\n",
    "\n",
    "I = np.array([0, 1, 2, 3, 15, 16, 32, 64, 128], dtype=np.uint8)\n",
    "print np.unpackbits(I[:, np.newaxis], axis=1)"
   ]
  },
  {
   "cell_type": "markdown",
   "metadata": {},
   "source": [
    "## Adept"
   ]
  },
  {
   "cell_type": "markdown",
   "metadata": {},
   "source": [
    "Consider an arbitrary array, write a function that extract a subpart\n",
    "with a fixed shape and centered on a given element (pad with a `fill`\n",
    "value when necessary)\n"
   ]
  },
  {
   "cell_type": "raw",
   "metadata": {},
   "source": [
    "# Author: Nicolas Rougier\n",
    "\n",
    "Z = np.random.randint(0,10,(10,10))\n",
    "shape = (5,5)\n",
    "fill  = 0\n",
    "position = (1,1)\n",
    "\n",
    "R = np.ones(shape, dtype=Z.dtype)*fill\n",
    "P  = np.array(list(position)).astype(int)\n",
    "Rs = np.array(list(R.shape)).astype(int)\n",
    "Zs = np.array(list(Z.shape)).astype(int)\n",
    "\n",
    "R_start = np.zeros((len(shape),)).astype(int)\n",
    "R_stop  = np.array(list(shape)).astype(int)\n",
    "Z_start = (P-Rs//2)\n",
    "Z_stop  = (P+Rs//2)+Rs%2\n",
    "\n",
    "R_start = (R_start - np.minimum(Z_start,0)).tolist()\n",
    "Z_start = (np.maximum(Z_start,0)).tolist()\n",
    "R_stop = np.maximum(R_start, (R_stop - np.maximum(Z_stop-Zs,0))).tolist()\n",
    "Z_stop = (np.minimum(Z_stop,Zs)).tolist()\n",
    "\n",
    "r = [slice(start,stop) for start,stop in zip(R_start,R_stop)]\n",
    "z = [slice(start,stop) for start,stop in zip(Z_start,Z_stop)]\n",
    "R[r] = Z[z]\n",
    "print Z\n",
    "print R"
   ]
  },
  {
   "cell_type": "markdown",
   "metadata": {},
   "source": [
    "Consider an array Z = [1,2,3,4,5,6,7,8,9,10,11,12,13,14], how to\n",
    "generate an array R = [[1,2,3,4], [2,3,4,5], [3,4,5,6], ...,\n",
    "[11,12,13,14]] ?\n"
   ]
  },
  {
   "cell_type": "code",
   "execution_count": null,
   "metadata": {
    "collapsed": true
   },
   "outputs": [],
   "source": [
    "# Author: Stéfan van der Walt\n",
    "\n",
    "Z = np.arange(1,15,dtype=uint32)\n",
    "R = stride_tricks.as_strided(Z,(11,4),(4,4))\n",
    "print R"
   ]
  },
  {
   "cell_type": "markdown",
   "metadata": {},
   "source": [
    "## Expert"
   ]
  },
  {
   "cell_type": "markdown",
   "metadata": {},
   "source": [
    "Consider two arrays A and B of shape (8,3) and (2,2). How to find rows\n",
    "of A that contain elements of each row of B regardless of the order of\n",
    "the elements in B ?\n"
   ]
  },
  {
   "cell_type": "code",
   "execution_count": null,
   "metadata": {
    "collapsed": true
   },
   "outputs": [],
   "source": [
    "# Author: Gabe Schwartz\n",
    "\n",
    "A = np.random.randint(0,5,(8,3))\n",
    "B = np.random.randint(0,5,(2,2))\n",
    "\n",
    "C = (A[..., np.newaxis, np.newaxis] == B)\n",
    "rows = (C.sum(axis=(1,2,3)) >= B.shape[1]).nonzero()[0]\n",
    "print rows"
   ]
  },
  {
   "cell_type": "markdown",
   "metadata": {},
   "source": [
    "Extract all the contiguous 3x3 blocks from a random 10x10 matrix.\n"
   ]
  },
  {
   "cell_type": "code",
   "execution_count": null,
   "metadata": {
    "collapsed": true
   },
   "outputs": [],
   "source": [
    "# Author: Chris Barker\n",
    "\n",
    "Z = np.random.randint(0,5,(10,10))\n",
    "n = 3\n",
    "i = 1 + (Z.shape[0]-3)\n",
    "j = 1 + (Z.shape[1]-3)\n",
    "C = stride_tricks.as_strided(Z, shape=(i, j, n, n), strides=Z.strides + Z.strides)\n",
    "print C"
   ]
  },
  {
   "cell_type": "markdown",
   "metadata": {},
   "source": [
    "Create a 2D array subclass such that Z[i,j] == Z[j,i]\n"
   ]
  },
  {
   "cell_type": "code",
   "execution_count": null,
   "metadata": {
    "collapsed": true
   },
   "outputs": [],
   "source": [
    "# Author: Eric O. Lebigot\n",
    "# Note: only works for 2d array and value setting using indices\n",
    "\n",
    "class Symetric(np.ndarray):\n",
    "    def __setitem__(self, (i,j), value):\n",
    "        super(Symetric, self).__setitem__((i,j), value)\n",
    "        super(Symetric, self).__setitem__((j,i), value)\n",
    "\n",
    "def symetric(Z):\n",
    "    return np.asarray(Z + Z.T - np.diag(Z.diagonal())).view(Symetric)\n",
    "\n",
    "S = symetric(np.random.randint(0,10,(5,5)))\n",
    "S[2,3] = 42\n",
    "print S"
   ]
  },
  {
   "cell_type": "markdown",
   "metadata": {},
   "source": [
    "Consider a set of p matrices wich shape (n,n) and a set of p vectors\n",
    "with shape (n,1). How to compute the sum of of the p matrix products at\n",
    "once ? (result has shape (n,1))\n"
   ]
  },
  {
   "cell_type": "code",
   "execution_count": null,
   "metadata": {
    "collapsed": true
   },
   "outputs": [],
   "source": [
    "# Author: Stéfan van der Walt\n",
    "\n",
    "p, n = 10, 20\n",
    "M = np.ones((p,n,n))\n",
    "V = np.ones((p,n,1))\n",
    "S = np.tensordot(M, V, axes=[[0, 2], [0, 1]])\n",
    "print S\n",
    "\n",
    "# It works, because:\n",
    "# M is (p,n,n)\n",
    "# V is (p,n,1)\n",
    "# Thus, summing over the paired axes 0 and 0 (of M and V independently),\n",
    "# and 2 and 1, to remain with a (n,1) vector."
   ]
  },
  {
   "cell_type": "markdown",
   "metadata": {},
   "source": [
    "## Master"
   ]
  },
  {
   "cell_type": "markdown",
   "metadata": {},
   "source": [
    "Given a two dimensional array, how to extract unique rows ?\n"
   ]
  },
  {
   "cell_type": "markdown",
   "metadata": {},
   "source": [
    "## Note"
   ]
  },
  {
   "cell_type": "markdown",
   "metadata": {},
   "source": [
    "See\n",
    "[stackoverflow](http://stackoverflow.com/questions/16970982/find-unique-rows-in-numpy-array/)\n",
    "for explanations.\n"
   ]
  },
  {
   "cell_type": "code",
   "execution_count": null,
   "metadata": {
    "collapsed": true
   },
   "outputs": [],
   "source": [
    "# Author: Jaime Fernández del Río\n",
    "\n",
    "Z = np.random.randint(0,2,(6,3))\n",
    "T = np.ascontiguousarray(Z).view(np.dtype((np.void, Z.dtype.itemsize * Z.shape[1])))\n",
    "_, idx = np.unique(T, return_index=True)\n",
    "uZ = Z[idx]\n",
    "print uZ"
   ]
  },
  {
   "cell_type": "markdown",
   "metadata": {},
   "source": [
    "## Archmaster"
   ]
  },
  {
   "cell_type": "markdown",
   "metadata": {},
   "source": [
    "（原文仅到Archmaster, 后续自己添加的) 恭喜完成本练习， 对 numpy 应该掌握得比较好了。\n"
   ]
  },
  {
   "cell_type": "code",
   "execution_count": null,
   "metadata": {
    "collapsed": true
   },
   "outputs": [],
   "source": [
    "# %load checker.py\n",
    "\n",
    "import numpy as np\n",
    "\n",
    "def check1(x):\n",
    "    if x is None:\n",
    "        return False\n",
    "    right = np.zeros(len(x))\n",
    "    return np.array_equal(x, right)\n",
    "\n",
    "def check2(x):\n",
    "    if x is None:\n",
    "        return False\n",
    "    right = np.zeros(len(x))\n",
    "    right[4] = 1\n",
    "    return np.array_equal(x, right)\n",
    "\n",
    "def check3(x):\n",
    "    if x is None:\n",
    "        return False\n",
    "    right = np.arange(10, 50)\n",
    "    return np.array_equal(x, right)\n",
    "\n",
    "def check4(x):\n",
    "    if x is None:\n",
    "        return False\n",
    "    right = np.arange(9).reshape(3,3)\n",
    "    return np.array_equal(x, right)\n",
    "    \n",
    "if __name__ == \"__main__\":\n",
    "    \n",
    "    right = np.arange(9).reshape(3,3)\n",
    "    print right\n",
    "    assert check4(right)\n",
    "    "
   ]
  }
 ],
 "metadata": {
  "kernelspec": {
   "display_name": "Python 2",
   "language": "python",
   "name": "python2"
  },
  "language_info": {
   "codemirror_mode": {
    "name": "ipython",
    "version": 2
   },
   "file_extension": ".py",
   "mimetype": "text/x-python",
   "name": "python",
   "nbconvert_exporter": "python",
   "pygments_lexer": "ipython2",
   "version": "2.7.12"
  }
 },
 "nbformat": 4,
 "nbformat_minor": 1
}
